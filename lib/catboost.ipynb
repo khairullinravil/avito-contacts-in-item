{
 "cells": [
  {
   "cell_type": "code",
   "execution_count": 15,
   "metadata": {},
   "outputs": [],
   "source": [
    "import os\n",
    "from multiprocessing import Pool\n",
    "from itertools import combinations\n",
    "\n",
    "import datetime\n",
    "from tqdm import tqdm\n",
    "\n",
    "import numpy as np\n",
    "import pandas as pd\n",
    "import matplotlib.pyplot as plt\n",
    "\n",
    "from sklearn.metrics import recall_score\n",
    "from sklearn.metrics import precision_recall_curve\n",
    "from sklearn.metrics import average_precision_score\n",
    "from sklearn.metrics import roc_auc_score\n",
    "from sklearn.metrics import roc_curve\n",
    "from sklearn.metrics import auc\n",
    "\n",
    "from catboost import CatBoostClassifier\n",
    "from catboost import CatBoost\n",
    "from catboost import Pool\n",
    "from catboost.text_processing import Tokenizer, Dictionary\n",
    "\n",
    "%matplotlib inline"
   ]
  },
  {
   "cell_type": "code",
   "execution_count": 41,
   "metadata": {},
   "outputs": [
    {
     "data": {
      "text/html": [
       "<div>\n",
       "<style scoped>\n",
       "    .dataframe tbody tr th:only-of-type {\n",
       "        vertical-align: middle;\n",
       "    }\n",
       "\n",
       "    .dataframe tbody tr th {\n",
       "        vertical-align: top;\n",
       "    }\n",
       "\n",
       "    .dataframe thead th {\n",
       "        text-align: right;\n",
       "    }\n",
       "</style>\n",
       "<table border=\"1\" class=\"dataframe\">\n",
       "  <thead>\n",
       "    <tr style=\"text-align: right;\">\n",
       "      <th></th>\n",
       "      <th>title</th>\n",
       "      <th>description</th>\n",
       "      <th>subcategory</th>\n",
       "      <th>category</th>\n",
       "      <th>price</th>\n",
       "      <th>region</th>\n",
       "      <th>city</th>\n",
       "      <th>datetime_submitted</th>\n",
       "      <th>is_bad</th>\n",
       "      <th>lemmatized_desc</th>\n",
       "    </tr>\n",
       "  </thead>\n",
       "  <tbody>\n",
       "    <tr>\n",
       "      <th>0</th>\n",
       "      <td>Диван-кровать</td>\n",
       "      <td>Продаем диван-кровать. Удобный механизм - евро...</td>\n",
       "      <td>Мебель и интерьер</td>\n",
       "      <td>Для дома и дачи</td>\n",
       "      <td>7000.0</td>\n",
       "      <td>Россия</td>\n",
       "      <td>Москва</td>\n",
       "      <td>2019-06-01 00:00:15.180656</td>\n",
       "      <td>0</td>\n",
       "      <td>продавать диван - кровать . удобный механизм -...</td>\n",
       "    </tr>\n",
       "    <tr>\n",
       "      <th>1</th>\n",
       "      <td>Кожух рулевой колонки Даф хф 91 4509834</td>\n",
       "      <td>Кожух рулевой колонки DAF XF 94 (60066004)/\\n ...</td>\n",
       "      <td>Запчасти и аксессуары</td>\n",
       "      <td>Транспорт</td>\n",
       "      <td>2290.0</td>\n",
       "      <td>Россия</td>\n",
       "      <td>Москва</td>\n",
       "      <td>2019-06-01 00:00:44.317933</td>\n",
       "      <td>0</td>\n",
       "      <td>кожух рулевой колонка daf xf 94 ( 60066004)/ \\...</td>\n",
       "    </tr>\n",
       "    <tr>\n",
       "      <th>2</th>\n",
       "      <td>Дешёвый буст аккаунтов Dota 4</td>\n",
       "      <td>! Буст аккаунтов с ммр выше 1000ммр не беру ! ...</td>\n",
       "      <td>Предложение услуг</td>\n",
       "      <td>Услуги</td>\n",
       "      <td>200.0</td>\n",
       "      <td>Северная Осетия</td>\n",
       "      <td>Владикавказ</td>\n",
       "      <td>2019-06-01 00:00:50.249692</td>\n",
       "      <td>1</td>\n",
       "      <td>! буст аккаунт с ммр выше 1000ммр не брать ! /...</td>\n",
       "    </tr>\n",
       "    <tr>\n",
       "      <th>3</th>\n",
       "      <td>Телевизор sharp.Смарт тв.Интернет</td>\n",
       "      <td>Продам телевизор . Диагональ 450.наличие входа...</td>\n",
       "      <td>Аудио и видео</td>\n",
       "      <td>Бытовая электроника</td>\n",
       "      <td>25000.0</td>\n",
       "      <td>Калининградская область</td>\n",
       "      <td>Советск</td>\n",
       "      <td>2019-06-01 00:00:50.325799</td>\n",
       "      <td>1</td>\n",
       "      <td>продам телевизор . диагональ 450.наличие вход ...</td>\n",
       "    </tr>\n",
       "    <tr>\n",
       "      <th>4</th>\n",
       "      <td>Открытка-конверт</td>\n",
       "      <td>Открытки-конверты ручной работы/\\nВыполнены в ...</td>\n",
       "      <td>Коллекционирование</td>\n",
       "      <td>Хобби и отдых</td>\n",
       "      <td>150.0</td>\n",
       "      <td>Ставропольский край</td>\n",
       "      <td>Ессентукская</td>\n",
       "      <td>2019-06-01 00:00:56.632655</td>\n",
       "      <td>0</td>\n",
       "      <td>открытка - конверты ручной работы/ \\n выполнен...</td>\n",
       "    </tr>\n",
       "  </tbody>\n",
       "</table>\n",
       "</div>"
      ],
      "text/plain": [
       "                                     title  \\\n",
       "0                            Диван-кровать   \n",
       "1  Кожух рулевой колонки Даф хф 91 4509834   \n",
       "2            Дешёвый буст аккаунтов Dota 4   \n",
       "3        Телевизор sharp.Смарт тв.Интернет   \n",
       "4                         Открытка-конверт   \n",
       "\n",
       "                                         description            subcategory  \\\n",
       "0  Продаем диван-кровать. Удобный механизм - евро...      Мебель и интерьер   \n",
       "1  Кожух рулевой колонки DAF XF 94 (60066004)/\\n ...  Запчасти и аксессуары   \n",
       "2  ! Буст аккаунтов с ммр выше 1000ммр не беру ! ...      Предложение услуг   \n",
       "3  Продам телевизор . Диагональ 450.наличие входа...          Аудио и видео   \n",
       "4  Открытки-конверты ручной работы/\\nВыполнены в ...     Коллекционирование   \n",
       "\n",
       "              category    price                   region          city  \\\n",
       "0      Для дома и дачи   7000.0                   Россия        Москва   \n",
       "1            Транспорт   2290.0                   Россия        Москва   \n",
       "2               Услуги    200.0          Северная Осетия   Владикавказ   \n",
       "3  Бытовая электроника  25000.0  Калининградская область       Советск   \n",
       "4        Хобби и отдых    150.0      Ставропольский край  Ессентукская   \n",
       "\n",
       "           datetime_submitted  is_bad  \\\n",
       "0  2019-06-01 00:00:15.180656       0   \n",
       "1  2019-06-01 00:00:44.317933       0   \n",
       "2  2019-06-01 00:00:50.249692       1   \n",
       "3  2019-06-01 00:00:50.325799       1   \n",
       "4  2019-06-01 00:00:56.632655       0   \n",
       "\n",
       "                                     lemmatized_desc  \n",
       "0  продавать диван - кровать . удобный механизм -...  \n",
       "1  кожух рулевой колонка daf xf 94 ( 60066004)/ \\...  \n",
       "2  ! буст аккаунт с ммр выше 1000ммр не брать ! /...  \n",
       "3  продам телевизор . диагональ 450.наличие вход ...  \n",
       "4  открытка - конверты ручной работы/ \\n выполнен...  "
      ]
     },
     "execution_count": 41,
     "metadata": {},
     "output_type": "execute_result"
    }
   ],
   "source": [
    "train = pd.read_csv('../data/lemmatized_train.csv')\n",
    "train.head()"
   ]
  },
  {
   "cell_type": "code",
   "execution_count": 42,
   "metadata": {},
   "outputs": [],
   "source": [
    "train['telegram'] = train['description'].str.contains('[Tt][eE][lL][eE][gG][Rr][Aa][mM]')\n",
    "train['telegram_2'] = train['description'].str.contains('[Tt][eE][lL][eE][gG][Rr][Aa][mM]\\s*:?\\s*[a-zA-Z\\d]')\n",
    "train['telegram_3'] = train['description'].str.contains('[Tt][gG]\\s*:?\\s*[a-zA-Z\\d]')\n",
    "train['num_1'] = train['description'].str.contains('\\+[\\s]*7')\n",
    "train['num_2'] = train['description'].str.contains('8[-\\s]*9')\n",
    "train['num_3'] = train['description'].str.contains('8[-\\s]*\\(\\s*9')\n",
    "train['vk_dot_com'] = train['description'].str.contains('[vV][kK]\\.com')\n",
    "train['vk_dot_com_2'] = train['description'].str.contains('[vV][kK]\\.com/[a-zA-Z\\d]')\n",
    "train['instagram'] = train['description'].str.contains('[Ii][nN][sS][tT]')\n",
    "train['instagram_2'] = train['description'].str.contains('[Ii][nN][sS][tT]\\s*:')\n",
    "train['instagram_3'] = train['description'].str.contains('[Ii][nN][sS][tT]\\s*:\\s*[a-zA-Z\\d]')"
   ]
  },
  {
   "cell_type": "code",
   "execution_count": 43,
   "metadata": {},
   "outputs": [
    {
     "data": {
      "text/html": [
       "<div>\n",
       "<style scoped>\n",
       "    .dataframe tbody tr th:only-of-type {\n",
       "        vertical-align: middle;\n",
       "    }\n",
       "\n",
       "    .dataframe tbody tr th {\n",
       "        vertical-align: top;\n",
       "    }\n",
       "\n",
       "    .dataframe thead th {\n",
       "        text-align: right;\n",
       "    }\n",
       "</style>\n",
       "<table border=\"1\" class=\"dataframe\">\n",
       "  <thead>\n",
       "    <tr style=\"text-align: right;\">\n",
       "      <th></th>\n",
       "      <th>title</th>\n",
       "      <th>description</th>\n",
       "      <th>subcategory</th>\n",
       "      <th>category</th>\n",
       "      <th>price</th>\n",
       "      <th>region</th>\n",
       "      <th>city</th>\n",
       "      <th>datetime_submitted</th>\n",
       "      <th>is_bad</th>\n",
       "      <th>lemmatized_desc</th>\n",
       "    </tr>\n",
       "  </thead>\n",
       "  <tbody>\n",
       "    <tr>\n",
       "      <th>0</th>\n",
       "      <td>Шины</td>\n",
       "      <td>Звонить 89425546881</td>\n",
       "      <td>Запчасти и аксессуары</td>\n",
       "      <td>Транспорт</td>\n",
       "      <td>2000.0</td>\n",
       "      <td>Тульская область</td>\n",
       "      <td>Огаревка</td>\n",
       "      <td>2019-10-10 00:00:25.200714</td>\n",
       "      <td>1</td>\n",
       "      <td>звонить 89425546881</td>\n",
       "    </tr>\n",
       "    <tr>\n",
       "      <th>1</th>\n",
       "      <td>Продается мобильная перегородка с дверью</td>\n",
       "      <td>Мобильная перегородка, предназначена для разгр...</td>\n",
       "      <td>Оборудование для бизнеса</td>\n",
       "      <td>Для бизнеса</td>\n",
       "      <td>10500.0</td>\n",
       "      <td>Вологодская область</td>\n",
       "      <td>Вологда</td>\n",
       "      <td>2019-10-10 00:03:11.527292</td>\n",
       "      <td>0</td>\n",
       "      <td>мобильный перегородка , предназначить для разг...</td>\n",
       "    </tr>\n",
       "    <tr>\n",
       "      <th>2</th>\n",
       "      <td>Комплект зимних шин на дисках 682/32/64</td>\n",
       "      <td>Шины зимние б/у Marshal Assimetric I”Zen KW 61...</td>\n",
       "      <td>Запчасти и аксессуары</td>\n",
       "      <td>Транспорт</td>\n",
       "      <td>4000.0</td>\n",
       "      <td>Россия</td>\n",
       "      <td>Москва</td>\n",
       "      <td>2019-10-10 00:05:07.193248</td>\n",
       "      <td>1</td>\n",
       "      <td>шина зимний б/у marshal assimetric i”zen kw 61...</td>\n",
       "    </tr>\n",
       "    <tr>\n",
       "      <th>3</th>\n",
       "      <td>Кровать-трансормер Дакота сб-4085</td>\n",
       "      <td>Продаю кровать-трансформер производства \"Столп...</td>\n",
       "      <td>Мебель и интерьер</td>\n",
       "      <td>Для дома и дачи</td>\n",
       "      <td>17000.0</td>\n",
       "      <td>Московская область</td>\n",
       "      <td>Химки</td>\n",
       "      <td>2019-10-10 00:05:58.165179</td>\n",
       "      <td>0</td>\n",
       "      <td>продавать кровать - трансформер производство \"...</td>\n",
       "    </tr>\n",
       "    <tr>\n",
       "      <th>4</th>\n",
       "      <td>Honda VFR 800 2004 г.в</td>\n",
       "      <td>Мот в отличном состоянии для своих лет, Родной...</td>\n",
       "      <td>Мотоциклы и мототехника</td>\n",
       "      <td>Транспорт</td>\n",
       "      <td>235000.0</td>\n",
       "      <td>Брянская область</td>\n",
       "      <td>Брянск</td>\n",
       "      <td>2019-10-10 00:06:19.231151</td>\n",
       "      <td>0</td>\n",
       "      <td>мот в отличный состояние для свой год , родной...</td>\n",
       "    </tr>\n",
       "  </tbody>\n",
       "</table>\n",
       "</div>"
      ],
      "text/plain": [
       "                                      title  \\\n",
       "0                                      Шины   \n",
       "1  Продается мобильная перегородка с дверью   \n",
       "2   Комплект зимних шин на дисках 682/32/64   \n",
       "3         Кровать-трансормер Дакота сб-4085   \n",
       "4                    Honda VFR 800 2004 г.в   \n",
       "\n",
       "                                         description  \\\n",
       "0                                Звонить 89425546881   \n",
       "1  Мобильная перегородка, предназначена для разгр...   \n",
       "2  Шины зимние б/у Marshal Assimetric I”Zen KW 61...   \n",
       "3  Продаю кровать-трансформер производства \"Столп...   \n",
       "4  Мот в отличном состоянии для своих лет, Родной...   \n",
       "\n",
       "                subcategory         category     price               region  \\\n",
       "0     Запчасти и аксессуары        Транспорт    2000.0     Тульская область   \n",
       "1  Оборудование для бизнеса      Для бизнеса   10500.0  Вологодская область   \n",
       "2     Запчасти и аксессуары        Транспорт    4000.0               Россия   \n",
       "3         Мебель и интерьер  Для дома и дачи   17000.0   Московская область   \n",
       "4   Мотоциклы и мототехника        Транспорт  235000.0     Брянская область   \n",
       "\n",
       "       city          datetime_submitted  is_bad  \\\n",
       "0  Огаревка  2019-10-10 00:00:25.200714       1   \n",
       "1   Вологда  2019-10-10 00:03:11.527292       0   \n",
       "2    Москва  2019-10-10 00:05:07.193248       1   \n",
       "3     Химки  2019-10-10 00:05:58.165179       0   \n",
       "4    Брянск  2019-10-10 00:06:19.231151       0   \n",
       "\n",
       "                                     lemmatized_desc  \n",
       "0                                звонить 89425546881  \n",
       "1  мобильный перегородка , предназначить для разг...  \n",
       "2  шина зимний б/у marshal assimetric i”zen kw 61...  \n",
       "3  продавать кровать - трансформер производство \"...  \n",
       "4  мот в отличный состояние для свой год , родной...  "
      ]
     },
     "execution_count": 43,
     "metadata": {},
     "output_type": "execute_result"
    }
   ],
   "source": [
    "val = pd.read_csv('../data/lemmatized_val.csv')\n",
    "val.head()"
   ]
  },
  {
   "cell_type": "code",
   "execution_count": 44,
   "metadata": {},
   "outputs": [],
   "source": [
    "val['telegram'] = val['description'].str.contains('[Tt][eE][lL][eE][gG][Rr][Aa][mM]')\n",
    "val['telegram_2'] = val['description'].str.contains('[Tt][eE][lL][eE][gG][Rr][Aa][mM]\\s*:?\\s*[a-zA-Z\\d]')\n",
    "val['telegram_3'] = val['description'].str.contains('[Tt][gG]\\s*:?\\s*[a-zA-Z\\d]')\n",
    "val['num_1'] = val['description'].str.contains('\\+[\\s]*7')\n",
    "val['num_2'] = val['description'].str.contains('8[-\\s]*9')\n",
    "val['num_3'] = val['description'].str.contains('8[-\\s]*\\(\\s*9')\n",
    "val['vk_dot_com'] = val['description'].str.contains('[vV][kK]\\.com')\n",
    "val['vk_dot_com_2'] = val['description'].str.contains('[vV][kK]\\.com/[a-zA-Z\\d]')\n",
    "val['instagram'] = val['description'].str.contains('[Ii][nN][sS][tT]')\n",
    "val['instagram_2'] = val['description'].str.contains('[Ii][nN][sS][tT]\\s*:')\n",
    "val['instagram_3'] = val['description'].str.contains('[Ii][nN][sS][tT]\\s*:\\s*[a-zA-Z\\d]')"
   ]
  },
  {
   "cell_type": "code",
   "execution_count": 24,
   "metadata": {},
   "outputs": [
    {
     "data": {
      "text/plain": [
       "Index(['title', 'description', 'subcategory', 'category', 'price', 'region',\n",
       "       'city', 'datetime_submitted', 'is_bad', 'lemmatized_desc', 'telegram',\n",
       "       'num_1', 'num_2', 'vk_dot_com', 'instagram'],\n",
       "      dtype='object')"
      ]
     },
     "execution_count": 24,
     "metadata": {},
     "output_type": "execute_result"
    }
   ],
   "source": [
    "test.columns"
   ]
  },
  {
   "cell_type": "code",
   "execution_count": 52,
   "metadata": {},
   "outputs": [],
   "source": [
    "features = ['price', 'telegram', 'telegram_2', 'telegram_3', 'num_1', 'num_2', 'num_3', \n",
    "            'vk_dot_com', 'vk_dot_com_2', 'instagram', 'instagram_2', 'instagram_3']\n",
    "cat_features = ['category', 'city']\n",
    "text_features = ['lemmatized_desc']"
   ]
  },
  {
   "cell_type": "code",
   "execution_count": 49,
   "metadata": {},
   "outputs": [],
   "source": [
    "tokenizer = Tokenizer(lowercasing=True, \n",
    "                      separator_type='BySense', \n",
    "                      token_types=['Word', 'Number', 'Punctuation'])\n",
    "dictionary = Dictionary(occurence_lower_bound=500,\n",
    "                        max_dictionary_size=15000,\n",
    "                        num_bpe_units=2500,\n",
    "                        dictionary_type='Bpe')"
   ]
  },
  {
   "cell_type": "code",
   "execution_count": 53,
   "metadata": {},
   "outputs": [],
   "source": [
    "text_processing = {\n",
    "    \"tokenizers\" : [{\n",
    "        \"tokenizer_id\" : \"tokenizer\",\n",
    "        'lowercasing' : 'True', \n",
    "        'separator_type' : 'BySense', \n",
    "        'token_types' : ['Word', 'Number', 'Punctuation']\n",
    "    }],\n",
    "\n",
    "    \"dictionaries\" : [{\n",
    "        \"dictionary_id\" : \"dictionary\",\n",
    "        'occurence_lower_bound' : '500',\n",
    "        'max_dictionary_size' : '15000',\n",
    "        'num_bpe_units' : '2500',\n",
    "        'dictionary_type' : 'Bpe'\n",
    "    }],\n",
    "\n",
    "    \"feature_processing\" : {\n",
    "        \"default\" : [{\n",
    "            \"dictionaries_names\" : [\"dictionary\"],\n",
    "            \"feature_calcers\" : [\"BoW\"],\n",
    "            \"tokenizers_names\" : [\"tokenizer\"]\n",
    "        }]\n",
    "    }\n",
    "}"
   ]
  },
  {
   "cell_type": "code",
   "execution_count": 54,
   "metadata": {},
   "outputs": [],
   "source": [
    "train_pool = Pool(train[features + cat_features],\n",
    "                  label=train['is_bad'],\n",
    "                  cat_features=cat_features)\n",
    "test_pool = Pool(val[features + cat_features],\n",
    "                 label=val['is_bad'],\n",
    "                 cat_features=cat_features)"
   ]
  },
  {
   "cell_type": "code",
   "execution_count": 55,
   "metadata": {},
   "outputs": [],
   "source": [
    "clf = CatBoostClassifier(iterations=2500, \n",
    "                         verbose=100, \n",
    "                         thread_count=2, \n",
    "                         depth=5,\n",
    "                         l2_leaf_reg=1,\n",
    "                         text_processing=text_processing)"
   ]
  },
  {
   "cell_type": "code",
   "execution_count": 56,
   "metadata": {
    "collapsed": true,
    "jupyter": {
     "outputs_hidden": true
    }
   },
   "outputs": [
    {
     "name": "stdout",
     "output_type": "stream",
     "text": [
      "Learning rate set to 0.044677\n",
      "0:\tlearn: 0.6598392\ttotal: 980ms\tremaining: 1h 21m 39s\n",
      "30:\tlearn: 0.3728185\ttotal: 14.8s\tremaining: 39m 34s\n",
      "60:\tlearn: 0.3501227\ttotal: 30.5s\tremaining: 41m 5s\n",
      "90:\tlearn: 0.3432791\ttotal: 49.5s\tremaining: 44m 31s\n",
      "120:\tlearn: 0.3403056\ttotal: 1m 13s\tremaining: 49m 6s\n",
      "150:\tlearn: 0.3385768\ttotal: 1m 34s\tremaining: 50m 42s\n",
      "180:\tlearn: 0.3373024\ttotal: 1m 52s\tremaining: 50m 1s\n",
      "210:\tlearn: 0.3361696\ttotal: 2m 9s\tremaining: 48m 51s\n",
      "240:\tlearn: 0.3354610\ttotal: 2m 27s\tremaining: 48m 26s\n",
      "270:\tlearn: 0.3347348\ttotal: 2m 45s\tremaining: 48m 11s\n",
      "300:\tlearn: 0.3340408\ttotal: 3m 11s\tremaining: 49m 44s\n",
      "330:\tlearn: 0.3334706\ttotal: 3m 28s\tremaining: 48m 59s\n",
      "360:\tlearn: 0.3329834\ttotal: 3m 44s\tremaining: 48m 1s\n",
      "390:\tlearn: 0.3325510\ttotal: 4m 1s\tremaining: 47m 26s\n",
      "420:\tlearn: 0.3321707\ttotal: 4m 18s\tremaining: 46m 52s\n",
      "450:\tlearn: 0.3318833\ttotal: 4m 34s\tremaining: 46m 10s\n",
      "480:\tlearn: 0.3315476\ttotal: 4m 51s\tremaining: 45m 38s\n",
      "510:\tlearn: 0.3312538\ttotal: 5m 11s\tremaining: 45m 34s\n",
      "540:\tlearn: 0.3309635\ttotal: 5m 34s\tremaining: 45m 54s\n",
      "570:\tlearn: 0.3306732\ttotal: 5m 56s\tremaining: 46m 7s\n",
      "600:\tlearn: 0.3304285\ttotal: 6m 23s\tremaining: 46m 49s\n",
      "630:\tlearn: 0.3301832\ttotal: 6m 48s\tremaining: 47m 7s\n",
      "660:\tlearn: 0.3299469\ttotal: 7m 12s\tremaining: 47m 17s\n",
      "690:\tlearn: 0.3296702\ttotal: 7m 36s\tremaining: 47m 29s\n",
      "720:\tlearn: 0.3294492\ttotal: 8m\tremaining: 47m 33s\n",
      "750:\tlearn: 0.3292260\ttotal: 8m 24s\tremaining: 47m 36s\n",
      "780:\tlearn: 0.3290038\ttotal: 8m 48s\tremaining: 47m 36s\n",
      "810:\tlearn: 0.3287821\ttotal: 9m 12s\tremaining: 47m 33s\n",
      "840:\tlearn: 0.3285854\ttotal: 9m 36s\tremaining: 47m 30s\n",
      "870:\tlearn: 0.3283743\ttotal: 10m\tremaining: 47m 26s\n",
      "900:\tlearn: 0.3282109\ttotal: 10m 25s\tremaining: 47m 23s\n",
      "930:\tlearn: 0.3280515\ttotal: 10m 51s\tremaining: 47m 25s\n",
      "960:\tlearn: 0.3278755\ttotal: 11m 11s\tremaining: 47m 1s\n",
      "990:\tlearn: 0.3277437\ttotal: 11m 36s\tremaining: 46m 57s\n",
      "1020:\tlearn: 0.3276207\ttotal: 12m\tremaining: 46m 46s\n",
      "1050:\tlearn: 0.3274857\ttotal: 12m 23s\tremaining: 46m 35s\n",
      "1080:\tlearn: 0.3273029\ttotal: 12m 44s\tremaining: 46m 11s\n",
      "1110:\tlearn: 0.3271682\ttotal: 13m 10s\tremaining: 46m 8s\n",
      "1140:\tlearn: 0.3270037\ttotal: 13m 38s\tremaining: 46m 7s\n",
      "1170:\tlearn: 0.3268617\ttotal: 14m 5s\tremaining: 46m 4s\n",
      "1200:\tlearn: 0.3267513\ttotal: 14m 31s\tremaining: 45m 57s\n",
      "1230:\tlearn: 0.3266420\ttotal: 14m 57s\tremaining: 45m 46s\n",
      "1260:\tlearn: 0.3265306\ttotal: 15m 22s\tremaining: 45m 36s\n",
      "1290:\tlearn: 0.3264338\ttotal: 15m 49s\tremaining: 45m 26s\n",
      "1320:\tlearn: 0.3263062\ttotal: 16m 15s\tremaining: 45m 17s\n",
      "1350:\tlearn: 0.3261914\ttotal: 16m 41s\tremaining: 45m 5s\n",
      "1380:\tlearn: 0.3260770\ttotal: 17m 6s\tremaining: 44m 49s\n",
      "1410:\tlearn: 0.3259626\ttotal: 17m 33s\tremaining: 44m 39s\n",
      "1440:\tlearn: 0.3258485\ttotal: 18m\tremaining: 44m 28s\n",
      "1470:\tlearn: 0.3257407\ttotal: 18m 19s\tremaining: 43m 58s\n",
      "1500:\tlearn: 0.3256293\ttotal: 18m 40s\tremaining: 43m 31s\n",
      "1530:\tlearn: 0.3255170\ttotal: 19m 2s\tremaining: 43m 7s\n",
      "1560:\tlearn: 0.3253977\ttotal: 19m 21s\tremaining: 42m 39s\n",
      "1590:\tlearn: 0.3252912\ttotal: 19m 40s\tremaining: 42m 8s\n",
      "1620:\tlearn: 0.3252083\ttotal: 19m 57s\tremaining: 41m 36s\n",
      "1650:\tlearn: 0.3251191\ttotal: 20m 17s\tremaining: 41m 9s\n",
      "1680:\tlearn: 0.3250136\ttotal: 20m 35s\tremaining: 40m 39s\n",
      "1710:\tlearn: 0.3249189\ttotal: 20m 53s\tremaining: 40m 9s\n",
      "1740:\tlearn: 0.3248180\ttotal: 21m 10s\tremaining: 39m 38s\n",
      "1770:\tlearn: 0.3247234\ttotal: 21m 27s\tremaining: 39m 8s\n",
      "1800:\tlearn: 0.3246303\ttotal: 21m 45s\tremaining: 38m 38s\n",
      "1830:\tlearn: 0.3245406\ttotal: 22m 2s\tremaining: 38m 8s\n",
      "1860:\tlearn: 0.3244595\ttotal: 22m 19s\tremaining: 37m 39s\n",
      "1890:\tlearn: 0.3243671\ttotal: 22m 36s\tremaining: 37m 9s\n",
      "1920:\tlearn: 0.3242914\ttotal: 22m 52s\tremaining: 36m 40s\n",
      "1950:\tlearn: 0.3242065\ttotal: 23m 9s\tremaining: 36m 11s\n",
      "1980:\tlearn: 0.3241120\ttotal: 23m 26s\tremaining: 35m 44s\n",
      "2010:\tlearn: 0.3240145\ttotal: 23m 44s\tremaining: 35m 16s\n",
      "2040:\tlearn: 0.3239437\ttotal: 24m\tremaining: 34m 48s\n",
      "2070:\tlearn: 0.3238746\ttotal: 24m 17s\tremaining: 34m 21s\n",
      "2100:\tlearn: 0.3237756\ttotal: 24m 35s\tremaining: 33m 55s\n",
      "2130:\tlearn: 0.3236896\ttotal: 24m 53s\tremaining: 33m 30s\n",
      "2160:\tlearn: 0.3235976\ttotal: 25m 10s\tremaining: 33m 3s\n",
      "2190:\tlearn: 0.3235015\ttotal: 25m 27s\tremaining: 32m 38s\n",
      "2220:\tlearn: 0.3234323\ttotal: 25m 44s\tremaining: 32m 12s\n",
      "2250:\tlearn: 0.3233585\ttotal: 26m 1s\tremaining: 31m 46s\n",
      "2280:\tlearn: 0.3232765\ttotal: 26m 17s\tremaining: 31m 20s\n",
      "2310:\tlearn: 0.3231938\ttotal: 26m 35s\tremaining: 30m 56s\n",
      "2340:\tlearn: 0.3231158\ttotal: 26m 52s\tremaining: 30m 31s\n",
      "2370:\tlearn: 0.3230362\ttotal: 27m 8s\tremaining: 30m 5s\n",
      "2400:\tlearn: 0.3229678\ttotal: 27m 25s\tremaining: 29m 41s\n",
      "2430:\tlearn: 0.3228953\ttotal: 27m 42s\tremaining: 29m 17s\n",
      "2460:\tlearn: 0.3228284\ttotal: 27m 59s\tremaining: 28m 52s\n",
      "2490:\tlearn: 0.3227605\ttotal: 28m 17s\tremaining: 28m 30s\n",
      "2520:\tlearn: 0.3227047\ttotal: 28m 34s\tremaining: 28m 5s\n",
      "2550:\tlearn: 0.3226441\ttotal: 28m 50s\tremaining: 27m 41s\n",
      "2580:\tlearn: 0.3225951\ttotal: 29m 6s\tremaining: 27m 17s\n",
      "2610:\tlearn: 0.3225327\ttotal: 29m 24s\tremaining: 26m 54s\n",
      "2640:\tlearn: 0.3224631\ttotal: 29m 40s\tremaining: 26m 30s\n",
      "2670:\tlearn: 0.3224037\ttotal: 29m 57s\tremaining: 26m 7s\n",
      "2700:\tlearn: 0.3223461\ttotal: 30m 15s\tremaining: 25m 45s\n",
      "2730:\tlearn: 0.3222813\ttotal: 30m 45s\tremaining: 25m 33s\n",
      "2760:\tlearn: 0.3222309\ttotal: 31m 7s\tremaining: 25m 14s\n",
      "2790:\tlearn: 0.3221700\ttotal: 31m 25s\tremaining: 24m 52s\n",
      "2820:\tlearn: 0.3221071\ttotal: 31m 42s\tremaining: 24m 29s\n",
      "2850:\tlearn: 0.3220498\ttotal: 32m\tremaining: 24m 7s\n",
      "2880:\tlearn: 0.3219934\ttotal: 32m 17s\tremaining: 23m 45s\n",
      "2910:\tlearn: 0.3219455\ttotal: 32m 34s\tremaining: 23m 22s\n",
      "2940:\tlearn: 0.3218965\ttotal: 32m 51s\tremaining: 23m\n",
      "2970:\tlearn: 0.3218522\ttotal: 33m 8s\tremaining: 22m 37s\n",
      "3000:\tlearn: 0.3217942\ttotal: 33m 25s\tremaining: 22m 16s\n",
      "3030:\tlearn: 0.3217335\ttotal: 33m 43s\tremaining: 21m 54s\n",
      "3060:\tlearn: 0.3216756\ttotal: 33m 59s\tremaining: 21m 31s\n",
      "3090:\tlearn: 0.3216202\ttotal: 34m 16s\tremaining: 21m 10s\n",
      "3120:\tlearn: 0.3215646\ttotal: 34m 33s\tremaining: 20m 48s\n",
      "3150:\tlearn: 0.3215079\ttotal: 34m 51s\tremaining: 20m 27s\n",
      "3180:\tlearn: 0.3214624\ttotal: 35m 7s\tremaining: 20m 5s\n",
      "3210:\tlearn: 0.3214128\ttotal: 35m 24s\tremaining: 19m 43s\n",
      "3240:\tlearn: 0.3213620\ttotal: 35m 41s\tremaining: 19m 22s\n",
      "3270:\tlearn: 0.3213081\ttotal: 35m 59s\tremaining: 19m 1s\n",
      "3300:\tlearn: 0.3212652\ttotal: 36m 16s\tremaining: 18m 39s\n",
      "3330:\tlearn: 0.3212102\ttotal: 36m 32s\tremaining: 18m 18s\n",
      "3360:\tlearn: 0.3211583\ttotal: 36m 49s\tremaining: 17m 57s\n",
      "3390:\tlearn: 0.3211162\ttotal: 37m 5s\tremaining: 17m 36s\n",
      "3420:\tlearn: 0.3210712\ttotal: 37m 23s\tremaining: 17m 15s\n",
      "3450:\tlearn: 0.3210341\ttotal: 37m 37s\tremaining: 16m 53s\n",
      "3480:\tlearn: 0.3209866\ttotal: 37m 50s\tremaining: 16m 30s\n",
      "3510:\tlearn: 0.3209378\ttotal: 38m 2s\tremaining: 16m 7s\n",
      "3540:\tlearn: 0.3208918\ttotal: 38m 15s\tremaining: 15m 45s\n",
      "3570:\tlearn: 0.3208429\ttotal: 38m 27s\tremaining: 15m 23s\n",
      "3600:\tlearn: 0.3208078\ttotal: 38m 39s\tremaining: 15m 1s\n",
      "3630:\tlearn: 0.3207492\ttotal: 38m 52s\tremaining: 14m 39s\n",
      "3660:\tlearn: 0.3207065\ttotal: 39m 4s\tremaining: 14m 17s\n",
      "3690:\tlearn: 0.3206619\ttotal: 39m 16s\tremaining: 13m 55s\n",
      "3720:\tlearn: 0.3206111\ttotal: 39m 28s\tremaining: 13m 34s\n",
      "3750:\tlearn: 0.3205605\ttotal: 39m 42s\tremaining: 13m 13s\n",
      "3780:\tlearn: 0.3205281\ttotal: 39m 53s\tremaining: 12m 51s\n",
      "3810:\tlearn: 0.3204853\ttotal: 40m 6s\tremaining: 12m 30s\n",
      "3840:\tlearn: 0.3204419\ttotal: 40m 18s\tremaining: 12m 9s\n",
      "3870:\tlearn: 0.3204010\ttotal: 40m 30s\tremaining: 11m 48s\n",
      "3900:\tlearn: 0.3203618\ttotal: 40m 42s\tremaining: 11m 28s\n",
      "3930:\tlearn: 0.3203179\ttotal: 40m 54s\tremaining: 11m 7s\n",
      "3960:\tlearn: 0.3202783\ttotal: 41m 6s\tremaining: 10m 46s\n",
      "3990:\tlearn: 0.3202298\ttotal: 41m 19s\tremaining: 10m 26s\n",
      "4020:\tlearn: 0.3201848\ttotal: 41m 31s\tremaining: 10m 6s\n",
      "4050:\tlearn: 0.3201490\ttotal: 41m 43s\tremaining: 9m 46s\n",
      "4080:\tlearn: 0.3201006\ttotal: 41m 55s\tremaining: 9m 26s\n",
      "4110:\tlearn: 0.3200621\ttotal: 42m 8s\tremaining: 9m 6s\n",
      "4140:\tlearn: 0.3200229\ttotal: 42m 21s\tremaining: 8m 47s\n",
      "4170:\tlearn: 0.3199858\ttotal: 42m 33s\tremaining: 8m 27s\n",
      "4200:\tlearn: 0.3199370\ttotal: 42m 46s\tremaining: 8m 8s\n",
      "4230:\tlearn: 0.3198951\ttotal: 42m 58s\tremaining: 7m 48s\n",
      "4260:\tlearn: 0.3198574\ttotal: 43m 10s\tremaining: 7m 29s\n",
      "4290:\tlearn: 0.3198287\ttotal: 43m 22s\tremaining: 7m 10s\n",
      "4320:\tlearn: 0.3197958\ttotal: 43m 35s\tremaining: 6m 50s\n",
      "4350:\tlearn: 0.3197644\ttotal: 43m 46s\tremaining: 6m 31s\n",
      "4380:\tlearn: 0.3197305\ttotal: 43m 59s\tremaining: 6m 12s\n",
      "4410:\tlearn: 0.3196870\ttotal: 44m 11s\tremaining: 5m 54s\n",
      "4440:\tlearn: 0.3196461\ttotal: 44m 24s\tremaining: 5m 35s\n",
      "4470:\tlearn: 0.3196143\ttotal: 44m 36s\tremaining: 5m 16s\n",
      "4500:\tlearn: 0.3195714\ttotal: 44m 48s\tremaining: 4m 58s\n",
      "4530:\tlearn: 0.3195371\ttotal: 45m\tremaining: 4m 39s\n",
      "4560:\tlearn: 0.3194971\ttotal: 45m 13s\tremaining: 4m 21s\n",
      "4590:\tlearn: 0.3194652\ttotal: 45m 25s\tremaining: 4m 2s\n",
      "4620:\tlearn: 0.3194286\ttotal: 45m 37s\tremaining: 3m 44s\n",
      "4650:\tlearn: 0.3193952\ttotal: 45m 49s\tremaining: 3m 26s\n",
      "4680:\tlearn: 0.3193519\ttotal: 46m 2s\tremaining: 3m 8s\n",
      "4710:\tlearn: 0.3193106\ttotal: 46m 14s\tremaining: 2m 50s\n",
      "4740:\tlearn: 0.3192687\ttotal: 46m 26s\tremaining: 2m 32s\n",
      "4770:\tlearn: 0.3192235\ttotal: 46m 38s\tremaining: 2m 14s\n",
      "4800:\tlearn: 0.3191834\ttotal: 46m 50s\tremaining: 1m 56s\n",
      "4830:\tlearn: 0.3191503\ttotal: 47m 2s\tremaining: 1m 38s\n",
      "4860:\tlearn: 0.3191192\ttotal: 47m 14s\tremaining: 1m 21s\n",
      "4890:\tlearn: 0.3190872\ttotal: 47m 26s\tremaining: 1m 3s\n",
      "4920:\tlearn: 0.3190544\ttotal: 47m 38s\tremaining: 45.9s\n",
      "4950:\tlearn: 0.3190093\ttotal: 47m 51s\tremaining: 28.4s\n",
      "4980:\tlearn: 0.3189686\ttotal: 48m 3s\tremaining: 11s\n",
      "4999:\tlearn: 0.3189418\ttotal: 48m 11s\tremaining: 0us\n"
     ]
    },
    {
     "data": {
      "text/plain": [
       "<catboost.core.CatBoostClassifier at 0x7fcc7145dc18>"
      ]
     },
     "execution_count": 56,
     "metadata": {},
     "output_type": "execute_result"
    }
   ],
   "source": [
    "clf.fit(train_pool)"
   ]
  },
  {
   "cell_type": "code",
   "execution_count": 57,
   "metadata": {},
   "outputs": [],
   "source": [
    "y_pred = clf.predict_proba(test_pool, thread_count=2)"
   ]
  },
  {
   "cell_type": "code",
   "execution_count": 58,
   "metadata": {},
   "outputs": [
    {
     "data": {
      "text/plain": [
       "0.8432392309947445"
      ]
     },
     "execution_count": 58,
     "metadata": {},
     "output_type": "execute_result"
    }
   ],
   "source": [
    "roc_auc_score(val['is_bad'], y_pred[:, 1])"
   ]
  },
  {
   "cell_type": "code",
   "execution_count": 60,
   "metadata": {},
   "outputs": [
    {
     "data": {
      "text/plain": [
       "0.7276548248402579"
      ]
     },
     "execution_count": 60,
     "metadata": {},
     "output_type": "execute_result"
    }
   ],
   "source": [
    "scores = []\n",
    "for category in val['category'].unique():\n",
    "    scores.append(\n",
    "        roc_auc_score(\n",
    "            val['is_bad'][val['category'] == category], \n",
    "            np.clip(0, 1, y_pred[val['category'] == category][:, 1] + val[val['category'] == category]['num_1'])\n",
    "        )\n",
    "    )\n",
    "np.mean(scores)"
   ]
  },
  {
   "cell_type": "code",
   "execution_count": 61,
   "metadata": {},
   "outputs": [
    {
     "data": {
      "text/plain": [
       "[0.8813720598772427,\n",
       " 0.7240111147433803,\n",
       " 0.7027182221628521,\n",
       " 0.617635197874518,\n",
       " 0.6438305528587079,\n",
       " 0.6420650209284627,\n",
       " 0.8848454933949887,\n",
       " 0.7573491670943959,\n",
       " 0.6846715328467152,\n",
       " 0.7380498866213153]"
      ]
     },
     "execution_count": 61,
     "metadata": {},
     "output_type": "execute_result"
    }
   ],
   "source": [
    "scores"
   ]
  },
  {
   "cell_type": "code",
   "execution_count": 83,
   "metadata": {},
   "outputs": [],
   "source": [
    "def sigmoid(x, w1=0.5, w2=1.1797474):\n",
    "    return (1 / (1 + np.exp(-x[0] * w1) * np.exp(-x[1] * w2)))"
   ]
  },
  {
   "cell_type": "code",
   "execution_count": 84,
   "metadata": {},
   "outputs": [
    {
     "data": {
      "text/plain": [
       "0.842871079813761"
      ]
     },
     "execution_count": 84,
     "metadata": {},
     "output_type": "execute_result"
    }
   ],
   "source": [
    "sigmoid([1, 1])"
   ]
  },
  {
   "cell_type": "code",
   "execution_count": 94,
   "metadata": {},
   "outputs": [
    {
     "data": {
      "text/plain": [
       "0.5"
      ]
     },
     "execution_count": 94,
     "metadata": {},
     "output_type": "execute_result"
    }
   ],
   "source": [
    "1 / (1 + np.exp(-0) * np.exp(-0))"
   ]
  },
  {
   "cell_type": "code",
   "execution_count": null,
   "metadata": {},
   "outputs": [],
   "source": []
  }
 ],
 "metadata": {
  "kernelspec": {
   "display_name": "Python 3",
   "language": "python",
   "name": "python3"
  },
  "language_info": {
   "codemirror_mode": {
    "name": "ipython",
    "version": 3
   },
   "file_extension": ".py",
   "mimetype": "text/x-python",
   "name": "python",
   "nbconvert_exporter": "python",
   "pygments_lexer": "ipython3",
   "version": "3.7.3"
  }
 },
 "nbformat": 4,
 "nbformat_minor": 4
}
