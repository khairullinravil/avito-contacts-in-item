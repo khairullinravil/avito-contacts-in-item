{
 "cells": [
  {
   "cell_type": "code",
   "execution_count": 3,
   "metadata": {},
   "outputs": [],
   "source": [
    "from tokenizers import Tokenizer\n",
    "from tokenizers.models import BPE\n",
    "from tokenizers.trainers import BpeTrainer"
   ]
  },
  {
   "cell_type": "code",
   "execution_count": 4,
   "metadata": {},
   "outputs": [],
   "source": [
    "unk_token = \"<UNK>\"\n",
    "spl_tokens = [\"<UNK>\", \"<SEP>\", \"<MASK>\", \"<CLS>\"]\n",
    "tokenizer = Tokenizer(BPE(unk_token = unk_token))\n",
    "trainer = BpeTrainer(vocab_size=10000, min_frequency=2, special_tokens=spl_tokens)"
   ]
  },
  {
   "cell_type": "code",
   "execution_count": null,
   "metadata": {},
   "outputs": [],
   "source": [
    "tokenizer.train(['description'], trainer)\n",
    "tokenizer.save(\"../data/tokenizer-trained.json\")\n",
    "tokenizer = Tokenizer.from_file(\"../data/tokenizer-trained.json\")"
   ]
  },
  {
   "cell_type": "code",
   "execution_count": 3,
   "metadata": {},
   "outputs": [],
   "source": [
    "import pandas as pd\n",
    "import numpy as np\n",
    "import matplotlib.pyplot as plt\n",
    "\n",
    "import pickle\n",
    "\n",
    "# import spacy\n",
    "# import ru_core_news_lg\n",
    "\n",
    "from sklearn.linear_model import LogisticRegression\n",
    "from sklearn.feature_extraction.text import TfidfVectorizer\n",
    "from sklearn.feature_extraction.text import CountVectorizer\n",
    "from sklearn.preprocessing import OneHotEncoder\n",
    "from sklearn.compose import ColumnTransformer\n",
    "from sklearn.pipeline import Pipeline\n",
    "\n",
    "from sklearn.model_selection import train_test_split\n",
    "\n",
    "from sklearn.metrics import roc_auc_score"
   ]
  },
  {
   "cell_type": "code",
   "execution_count": 2,
   "metadata": {},
   "outputs": [],
   "source": [
    "# # python -m spacy download ru_core_news_lg\n",
    "\n",
    "# # nlp = spacy.load(\"ru_core_news_sm\")\n",
    "# nlp = spacy.load(\"ru_core_news_lg\")\n",
    "\n",
    "# [' '.join([tok.lemma_ for tok in doc]) \n",
    "#  for doc in \n",
    "#  nlp.pipe(val['description'], batch_size=512, n_process=30, disable=[\"parser\", \"ner\"])\n",
    "# ]"
   ]
  },
  {
   "cell_type": "code",
   "execution_count": 4,
   "metadata": {},
   "outputs": [
    {
     "data": {
      "text/html": [
       "<div>\n",
       "<style scoped>\n",
       "    .dataframe tbody tr th:only-of-type {\n",
       "        vertical-align: middle;\n",
       "    }\n",
       "\n",
       "    .dataframe tbody tr th {\n",
       "        vertical-align: top;\n",
       "    }\n",
       "\n",
       "    .dataframe thead th {\n",
       "        text-align: right;\n",
       "    }\n",
       "</style>\n",
       "<table border=\"1\" class=\"dataframe\">\n",
       "  <thead>\n",
       "    <tr style=\"text-align: right;\">\n",
       "      <th></th>\n",
       "      <th>title</th>\n",
       "      <th>description</th>\n",
       "      <th>subcategory</th>\n",
       "      <th>category</th>\n",
       "      <th>price</th>\n",
       "      <th>region</th>\n",
       "      <th>city</th>\n",
       "      <th>datetime_submitted</th>\n",
       "      <th>is_bad</th>\n",
       "      <th>lemmatized_desc</th>\n",
       "    </tr>\n",
       "  </thead>\n",
       "  <tbody>\n",
       "    <tr>\n",
       "      <th>0</th>\n",
       "      <td>Шины</td>\n",
       "      <td>Звонить 89425546881</td>\n",
       "      <td>Запчасти и аксессуары</td>\n",
       "      <td>Транспорт</td>\n",
       "      <td>2000.0</td>\n",
       "      <td>Тульская область</td>\n",
       "      <td>Огаревка</td>\n",
       "      <td>2019-10-10 00:00:25.200714</td>\n",
       "      <td>1</td>\n",
       "      <td>звонить 89425546881</td>\n",
       "    </tr>\n",
       "    <tr>\n",
       "      <th>1</th>\n",
       "      <td>Продается мобильная перегородка с дверью</td>\n",
       "      <td>Мобильная перегородка, предназначена для разгр...</td>\n",
       "      <td>Оборудование для бизнеса</td>\n",
       "      <td>Для бизнеса</td>\n",
       "      <td>10500.0</td>\n",
       "      <td>Вологодская область</td>\n",
       "      <td>Вологда</td>\n",
       "      <td>2019-10-10 00:03:11.527292</td>\n",
       "      <td>0</td>\n",
       "      <td>мобильный перегородка , предназначить для разг...</td>\n",
       "    </tr>\n",
       "    <tr>\n",
       "      <th>2</th>\n",
       "      <td>Комплект зимних шин на дисках 682/32/64</td>\n",
       "      <td>Шины зимние б/у Marshal Assimetric I”Zen KW 61...</td>\n",
       "      <td>Запчасти и аксессуары</td>\n",
       "      <td>Транспорт</td>\n",
       "      <td>4000.0</td>\n",
       "      <td>Россия</td>\n",
       "      <td>Москва</td>\n",
       "      <td>2019-10-10 00:05:07.193248</td>\n",
       "      <td>1</td>\n",
       "      <td>шина зимний б/у marshal assimetric i”zen kw 61...</td>\n",
       "    </tr>\n",
       "    <tr>\n",
       "      <th>3</th>\n",
       "      <td>Кровать-трансормер Дакота сб-4085</td>\n",
       "      <td>Продаю кровать-трансформер производства \"Столп...</td>\n",
       "      <td>Мебель и интерьер</td>\n",
       "      <td>Для дома и дачи</td>\n",
       "      <td>17000.0</td>\n",
       "      <td>Московская область</td>\n",
       "      <td>Химки</td>\n",
       "      <td>2019-10-10 00:05:58.165179</td>\n",
       "      <td>0</td>\n",
       "      <td>продавать кровать - трансформер производство \"...</td>\n",
       "    </tr>\n",
       "    <tr>\n",
       "      <th>4</th>\n",
       "      <td>Honda VFR 800 2004 г.в</td>\n",
       "      <td>Мот в отличном состоянии для своих лет, Родной...</td>\n",
       "      <td>Мотоциклы и мототехника</td>\n",
       "      <td>Транспорт</td>\n",
       "      <td>235000.0</td>\n",
       "      <td>Брянская область</td>\n",
       "      <td>Брянск</td>\n",
       "      <td>2019-10-10 00:06:19.231151</td>\n",
       "      <td>0</td>\n",
       "      <td>мот в отличный состояние для свой год , родной...</td>\n",
       "    </tr>\n",
       "  </tbody>\n",
       "</table>\n",
       "</div>"
      ],
      "text/plain": [
       "                                      title  \\\n",
       "0                                      Шины   \n",
       "1  Продается мобильная перегородка с дверью   \n",
       "2   Комплект зимних шин на дисках 682/32/64   \n",
       "3         Кровать-трансормер Дакота сб-4085   \n",
       "4                    Honda VFR 800 2004 г.в   \n",
       "\n",
       "                                         description  \\\n",
       "0                                Звонить 89425546881   \n",
       "1  Мобильная перегородка, предназначена для разгр...   \n",
       "2  Шины зимние б/у Marshal Assimetric I”Zen KW 61...   \n",
       "3  Продаю кровать-трансформер производства \"Столп...   \n",
       "4  Мот в отличном состоянии для своих лет, Родной...   \n",
       "\n",
       "                subcategory         category     price               region  \\\n",
       "0     Запчасти и аксессуары        Транспорт    2000.0     Тульская область   \n",
       "1  Оборудование для бизнеса      Для бизнеса   10500.0  Вологодская область   \n",
       "2     Запчасти и аксессуары        Транспорт    4000.0               Россия   \n",
       "3         Мебель и интерьер  Для дома и дачи   17000.0   Московская область   \n",
       "4   Мотоциклы и мототехника        Транспорт  235000.0     Брянская область   \n",
       "\n",
       "       city          datetime_submitted  is_bad  \\\n",
       "0  Огаревка  2019-10-10 00:00:25.200714       1   \n",
       "1   Вологда  2019-10-10 00:03:11.527292       0   \n",
       "2    Москва  2019-10-10 00:05:07.193248       1   \n",
       "3     Химки  2019-10-10 00:05:58.165179       0   \n",
       "4    Брянск  2019-10-10 00:06:19.231151       0   \n",
       "\n",
       "                                     lemmatized_desc  \n",
       "0                                звонить 89425546881  \n",
       "1  мобильный перегородка , предназначить для разг...  \n",
       "2  шина зимний б/у marshal assimetric i”zen kw 61...  \n",
       "3  продавать кровать - трансформер производство \"...  \n",
       "4  мот в отличный состояние для свой год , родной...  "
      ]
     },
     "execution_count": 4,
     "metadata": {},
     "output_type": "execute_result"
    }
   ],
   "source": [
    "val = pd.read_csv('../data/lemmatized_val.csv')\n",
    "val.head()"
   ]
  },
  {
   "cell_type": "code",
   "execution_count": 5,
   "metadata": {},
   "outputs": [
    {
     "name": "stderr",
     "output_type": "stream",
     "text": [
      "/Users/rkhairullin/anaconda3/lib/python3.7/site-packages/pandas/core/strings.py:1954: UserWarning: This pattern has match groups. To actually get the groups, use str.extract.\n",
      "  return func(self, *args, **kwargs)\n"
     ]
    }
   ],
   "source": [
    "val['at_sign'] = val['description'].str.contains('@')\n",
    "val['email'] = val['description'].str.contains('[a-zA-Z\\d\\._\\-]*@[a-zA-Z\\d]*\\.?')\n",
    "val['telegram'] = val['description'].str.contains('[Tt][eE][lL][eE][gG][Rr][Aa][mM]')\n",
    "val['telegram_2'] = val['description'].str.contains('[Tt][eE][lL][eE][gG][Rr][Aa][mM]\\s*(:|-)?\\s*[a-zA-Z\\d]')\n",
    "val['telegram_3'] = val['description'].str.contains('[Tt][gG]\\s*(:|-)?\\s*[a-zA-Z\\d]')\n",
    "val['num_1'] = val['description'].str.contains('\\+[\\s]*7')\n",
    "val['num_2'] = val['description'].str.contains('8[-\\s]*9')\n",
    "val['num_3'] = val['description'].str.contains('8[-\\s]*\\(\\s*9')\n",
    "val['vk_dot_com'] = val['description'].str.contains('[vV][kK]\\.com')\n",
    "val['vk_dot_com_2'] = val['description'].str.contains('[vV][kK]\\.com/[a-zA-Z\\d]')\n",
    "val['instagram'] = val['description'].str.contains('[Ii][nN][sS][tT]')\n",
    "val['instagram_2'] = val['description'].str.contains('[Ii][nN][sS][tT]\\s*(:|-)')\n",
    "val['instagram_3'] = val['description'].str.contains('[Ii][nN][sS][tT]\\s*(:|-)\\s*[a-zA-Z\\d]')"
   ]
  },
  {
   "cell_type": "code",
   "execution_count": 4,
   "metadata": {},
   "outputs": [
    {
     "ename": "NameError",
     "evalue": "name 'pd' is not defined",
     "output_type": "error",
     "traceback": [
      "\u001b[0;31m---------------------------------------------------------------------------\u001b[0m",
      "\u001b[0;31mNameError\u001b[0m                                 Traceback (most recent call last)",
      "\u001b[0;32m<ipython-input-4-9fb9075da551>\u001b[0m in \u001b[0;36m<module>\u001b[0;34m\u001b[0m\n\u001b[0;32m----> 1\u001b[0;31m \u001b[0mtrain\u001b[0m \u001b[0;34m=\u001b[0m \u001b[0mpd\u001b[0m\u001b[0;34m.\u001b[0m\u001b[0mread_csv\u001b[0m\u001b[0;34m(\u001b[0m\u001b[0;34m'../data/lemmatized_train.csv'\u001b[0m\u001b[0;34m)\u001b[0m\u001b[0;34m\u001b[0m\u001b[0;34m\u001b[0m\u001b[0m\n\u001b[0m",
      "\u001b[0;31mNameError\u001b[0m: name 'pd' is not defined"
     ]
    }
   ],
   "source": [
    "train = pd.read_csv('../data/lemmatized_train.csv')"
   ]
  },
  {
   "cell_type": "code",
   "execution_count": 7,
   "metadata": {},
   "outputs": [],
   "source": [
    "train['at_sign'] = train['description'].str.contains('@')\n",
    "train['email'] = train['description'].str.contains('[a-zA-Z\\d\\._\\-]*@[a-zA-Z\\d]*\\.?')\n",
    "train['telegram'] = train['description'].str.contains('[Tt][eE][lL][eE][gG][Rr][Aa][mM]')\n",
    "train['telegram_2'] = train['description'].str.contains('[Tt][eE][lL][eE][gG][Rr][Aa][mM]\\s*(:|-)?\\s*[a-zA-Z\\d]')\n",
    "train['telegram_3'] = train['description'].str.contains('[Tt][gG]\\s*(:|-)?\\s*[a-zA-Z\\d]')\n",
    "train['num_1'] = train['description'].str.contains('\\+[\\s]*7')\n",
    "train['num_2'] = train['description'].str.contains('8[-\\s]*9')\n",
    "train['num_3'] = train['description'].str.contains('8[-\\s]*\\(\\s*9')\n",
    "train['vk_dot_com'] = train['description'].str.contains('[vV][kK]\\.com')\n",
    "train['vk_dot_com_2'] = train['description'].str.contains('[vV][kK]\\.com/[a-zA-Z\\d]')\n",
    "train['instagram'] = train['description'].str.contains('[Ii][nN][sS][tT]')\n",
    "train['instagram_2'] = train['description'].str.contains('[Ii][nN][sS][tT]\\s*(:|-)')\n",
    "train['instagram_3'] = train['description'].str.contains('[Ii][nN][sS][tT]\\s*(:|-)\\s*[a-zA-Z\\d]')"
   ]
  },
  {
   "cell_type": "code",
   "execution_count": 8,
   "metadata": {},
   "outputs": [
    {
     "data": {
      "text/html": [
       "<div>\n",
       "<style scoped>\n",
       "    .dataframe tbody tr th:only-of-type {\n",
       "        vertical-align: middle;\n",
       "    }\n",
       "\n",
       "    .dataframe tbody tr th {\n",
       "        vertical-align: top;\n",
       "    }\n",
       "\n",
       "    .dataframe thead tr th {\n",
       "        text-align: left;\n",
       "    }\n",
       "\n",
       "    .dataframe thead tr:last-of-type th {\n",
       "        text-align: right;\n",
       "    }\n",
       "</style>\n",
       "<table border=\"1\" class=\"dataframe\">\n",
       "  <thead>\n",
       "    <tr>\n",
       "      <th></th>\n",
       "      <th colspan=\"2\" halign=\"left\">is_bad</th>\n",
       "    </tr>\n",
       "    <tr>\n",
       "      <th></th>\n",
       "      <th>count</th>\n",
       "      <th>sum</th>\n",
       "    </tr>\n",
       "    <tr>\n",
       "      <th>category</th>\n",
       "      <th></th>\n",
       "      <th></th>\n",
       "    </tr>\n",
       "  </thead>\n",
       "  <tbody>\n",
       "    <tr>\n",
       "      <th>Бытовая электроника</th>\n",
       "      <td>2788</td>\n",
       "      <td>160</td>\n",
       "    </tr>\n",
       "    <tr>\n",
       "      <th>Для бизнеса</th>\n",
       "      <td>289</td>\n",
       "      <td>23</td>\n",
       "    </tr>\n",
       "    <tr>\n",
       "      <th>Для дома и дачи</th>\n",
       "      <td>1918</td>\n",
       "      <td>342</td>\n",
       "    </tr>\n",
       "    <tr>\n",
       "      <th>Животные</th>\n",
       "      <td>210</td>\n",
       "      <td>105</td>\n",
       "    </tr>\n",
       "    <tr>\n",
       "      <th>Личные вещи</th>\n",
       "      <td>1765</td>\n",
       "      <td>187</td>\n",
       "    </tr>\n",
       "    <tr>\n",
       "      <th>Недвижимость</th>\n",
       "      <td>1757</td>\n",
       "      <td>835</td>\n",
       "    </tr>\n",
       "    <tr>\n",
       "      <th>Работа</th>\n",
       "      <td>544</td>\n",
       "      <td>270</td>\n",
       "    </tr>\n",
       "    <tr>\n",
       "      <th>Транспорт</th>\n",
       "      <td>5497</td>\n",
       "      <td>1690</td>\n",
       "    </tr>\n",
       "    <tr>\n",
       "      <th>Услуги</th>\n",
       "      <td>672</td>\n",
       "      <td>311</td>\n",
       "    </tr>\n",
       "    <tr>\n",
       "      <th>Хобби и отдых</th>\n",
       "      <td>797</td>\n",
       "      <td>58</td>\n",
       "    </tr>\n",
       "  </tbody>\n",
       "</table>\n",
       "</div>"
      ],
      "text/plain": [
       "                    is_bad      \n",
       "                     count   sum\n",
       "category                        \n",
       "Бытовая электроника   2788   160\n",
       "Для бизнеса            289    23\n",
       "Для дома и дачи       1918   342\n",
       "Животные               210   105\n",
       "Личные вещи           1765   187\n",
       "Недвижимость          1757   835\n",
       "Работа                 544   270\n",
       "Транспорт             5497  1690\n",
       "Услуги                 672   311\n",
       "Хобби и отдых          797    58"
      ]
     },
     "execution_count": 8,
     "metadata": {},
     "output_type": "execute_result"
    }
   ],
   "source": [
    "val[['category', 'is_bad']].groupby(by=['category']).agg(['count', 'sum'])"
   ]
  },
  {
   "cell_type": "code",
   "execution_count": 9,
   "metadata": {},
   "outputs": [
    {
     "data": {
      "text/html": [
       "<div>\n",
       "<style scoped>\n",
       "    .dataframe tbody tr th:only-of-type {\n",
       "        vertical-align: middle;\n",
       "    }\n",
       "\n",
       "    .dataframe tbody tr th {\n",
       "        vertical-align: top;\n",
       "    }\n",
       "\n",
       "    .dataframe thead tr th {\n",
       "        text-align: left;\n",
       "    }\n",
       "\n",
       "    .dataframe thead tr:last-of-type th {\n",
       "        text-align: right;\n",
       "    }\n",
       "</style>\n",
       "<table border=\"1\" class=\"dataframe\">\n",
       "  <thead>\n",
       "    <tr>\n",
       "      <th></th>\n",
       "      <th colspan=\"2\" halign=\"left\">is_bad</th>\n",
       "    </tr>\n",
       "    <tr>\n",
       "      <th></th>\n",
       "      <th>count</th>\n",
       "      <th>sum</th>\n",
       "    </tr>\n",
       "    <tr>\n",
       "      <th>category</th>\n",
       "      <th></th>\n",
       "      <th></th>\n",
       "    </tr>\n",
       "  </thead>\n",
       "  <tbody>\n",
       "    <tr>\n",
       "      <th>Бытовая электроника</th>\n",
       "      <td>152132</td>\n",
       "      <td>21010</td>\n",
       "    </tr>\n",
       "    <tr>\n",
       "      <th>Для бизнеса</th>\n",
       "      <td>11958</td>\n",
       "      <td>1749</td>\n",
       "    </tr>\n",
       "    <tr>\n",
       "      <th>Для дома и дачи</th>\n",
       "      <td>132120</td>\n",
       "      <td>30087</td>\n",
       "    </tr>\n",
       "    <tr>\n",
       "      <th>Животные</th>\n",
       "      <td>31421</td>\n",
       "      <td>17159</td>\n",
       "    </tr>\n",
       "    <tr>\n",
       "      <th>Личные вещи</th>\n",
       "      <td>199655</td>\n",
       "      <td>27509</td>\n",
       "    </tr>\n",
       "    <tr>\n",
       "      <th>Недвижимость</th>\n",
       "      <td>100796</td>\n",
       "      <td>36694</td>\n",
       "    </tr>\n",
       "    <tr>\n",
       "      <th>Работа</th>\n",
       "      <td>26208</td>\n",
       "      <td>10340</td>\n",
       "    </tr>\n",
       "    <tr>\n",
       "      <th>Транспорт</th>\n",
       "      <td>209221</td>\n",
       "      <td>54813</td>\n",
       "    </tr>\n",
       "    <tr>\n",
       "      <th>Услуги</th>\n",
       "      <td>56681</td>\n",
       "      <td>28430</td>\n",
       "    </tr>\n",
       "    <tr>\n",
       "      <th>Хобби и отдых</th>\n",
       "      <td>64295</td>\n",
       "      <td>10475</td>\n",
       "    </tr>\n",
       "  </tbody>\n",
       "</table>\n",
       "</div>"
      ],
      "text/plain": [
       "                     is_bad       \n",
       "                      count    sum\n",
       "category                          \n",
       "Бытовая электроника  152132  21010\n",
       "Для бизнеса           11958   1749\n",
       "Для дома и дачи      132120  30087\n",
       "Животные              31421  17159\n",
       "Личные вещи          199655  27509\n",
       "Недвижимость         100796  36694\n",
       "Работа                26208  10340\n",
       "Транспорт            209221  54813\n",
       "Услуги                56681  28430\n",
       "Хобби и отдых         64295  10475"
      ]
     },
     "execution_count": 9,
     "metadata": {},
     "output_type": "execute_result"
    }
   ],
   "source": [
    "train[['category', 'is_bad']].groupby(by=['category']).agg(['count', 'sum'])"
   ]
  },
  {
   "cell_type": "code",
   "execution_count": 374,
   "metadata": {},
   "outputs": [],
   "source": [
    "def build_model(category, features=['lemmatized_desc', 'category', 'at_sign', 'email', 'telegram', 'telegram_2', 'telegram_3',\n",
    "                                    'num_1', 'num_2', 'num_3', 'vk_dot_com', 'vk_dot_com_2', 'instagram', 'instagram_2', 'instagram_3']):\n",
    "    pipeline = Pipeline([\n",
    "        ('transformer', \n",
    "         ColumnTransformer([\n",
    "             ('tf-idf', \n",
    "              TfidfVectorizer(\n",
    "                  max_df = 0.2,\n",
    "                  min_df = 0.0005,\n",
    "                  strip_accents='unicode',\n",
    "                  ngram_range = (1, 2),\n",
    "                  lowercase=True\n",
    "              ), 'lemmatized_desc'),\n",
    "             ('OHE',\n",
    "              OneHotEncoder(\n",
    "                  handle_unknown='ignore'\n",
    "              ), ['category'])\n",
    "         ])),\n",
    "        ('classifier', \n",
    "         LogisticRegression(\n",
    "             solver='saga',\n",
    "             penalty='l1', \n",
    "             random_state=42,\n",
    "             max_iter=1000,\n",
    "             verbose=1,\n",
    "             tol=0.00005,\n",
    "             n_jobs=-1)\n",
    "        )\n",
    "    ])\n",
    "    pipeline.fit(train[features][train['category'] == category], train['is_bad'][train['category'] == category])\n",
    "    return pipeline\n",
    "\n",
    "\n",
    "def eval_model(model, category, features=['lemmatized_desc', 'category', 'at_sign', 'email', 'telegram', 'telegram_2', 'telegram_3',\n",
    "                                          'num_1', 'num_2', 'num_3', 'vk_dot_com', 'vk_dot_com_2', 'instagram', 'instagram_2', 'instagram_3']):\n",
    "    y_pred = pipeline.predict_proba(val[features][val['category'] == category])[:, 1]\n",
    "    clipped_roc_auc = roc_auc_score(val['is_bad'][val['category'] == category], np.clip(0, 1, y_pred + val['num_1'][val['category'] == category]))\n",
    "    normal_roc_auc = roc_auc_score(val['is_bad'][val['category'] == category], y_pred)\n",
    "    return clipped_roc_auc, normal_roc_auc"
   ]
  },
  {
   "cell_type": "code",
   "execution_count": 375,
   "metadata": {},
   "outputs": [
    {
     "name": "stderr",
     "output_type": "stream",
     "text": [
      "[Parallel(n_jobs=-1)]: Using backend ThreadingBackend with 4 concurrent workers.\n"
     ]
    },
    {
     "name": "stdout",
     "output_type": "stream",
     "text": [
      "convergence after 807 epochs took 1243 seconds\n"
     ]
    },
    {
     "name": "stderr",
     "output_type": "stream",
     "text": [
      "[Parallel(n_jobs=-1)]: Done   1 out of   1 | elapsed: 20.7min finished\n",
      "[Parallel(n_jobs=-1)]: Using backend ThreadingBackend with 4 concurrent workers.\n"
     ]
    },
    {
     "name": "stdout",
     "output_type": "stream",
     "text": [
      "max_iter reached after 2832 seconds\n"
     ]
    },
    {
     "name": "stderr",
     "output_type": "stream",
     "text": [
      "/Users/rkhairullin/anaconda3/lib/python3.7/site-packages/sklearn/linear_model/_sag.py:354: ConvergenceWarning: The max_iter was reached which means the coef_ did not converge\n",
      "  ConvergenceWarning,\n",
      "[Parallel(n_jobs=-1)]: Done   1 out of   1 | elapsed: 47.2min finished\n",
      "[Parallel(n_jobs=-1)]: Using backend ThreadingBackend with 4 concurrent workers.\n"
     ]
    },
    {
     "name": "stdout",
     "output_type": "stream",
     "text": [
      "convergence after 365 epochs took 164 seconds\n"
     ]
    },
    {
     "name": "stderr",
     "output_type": "stream",
     "text": [
      "[Parallel(n_jobs=-1)]: Done   1 out of   1 | elapsed:  2.7min finished\n",
      "[Parallel(n_jobs=-1)]: Using backend ThreadingBackend with 4 concurrent workers.\n"
     ]
    },
    {
     "name": "stdout",
     "output_type": "stream",
     "text": [
      "convergence after 649 epochs took 879 seconds\n"
     ]
    },
    {
     "name": "stderr",
     "output_type": "stream",
     "text": [
      "[Parallel(n_jobs=-1)]: Done   1 out of   1 | elapsed: 14.7min finished\n",
      "[Parallel(n_jobs=-1)]: Using backend ThreadingBackend with 4 concurrent workers.\n"
     ]
    },
    {
     "name": "stdout",
     "output_type": "stream",
     "text": [
      "convergence after 418 epochs took 138 seconds\n"
     ]
    },
    {
     "name": "stderr",
     "output_type": "stream",
     "text": [
      "[Parallel(n_jobs=-1)]: Done   1 out of   1 | elapsed:  2.3min finished\n",
      "[Parallel(n_jobs=-1)]: Using backend ThreadingBackend with 4 concurrent workers.\n"
     ]
    },
    {
     "name": "stdout",
     "output_type": "stream",
     "text": [
      "convergence after 578 epochs took 1307 seconds\n"
     ]
    },
    {
     "name": "stderr",
     "output_type": "stream",
     "text": [
      "[Parallel(n_jobs=-1)]: Done   1 out of   1 | elapsed: 21.8min finished\n",
      "[Parallel(n_jobs=-1)]: Using backend ThreadingBackend with 4 concurrent workers.\n"
     ]
    },
    {
     "name": "stdout",
     "output_type": "stream",
     "text": [
      "max_iter reached after 886 seconds\n"
     ]
    },
    {
     "name": "stderr",
     "output_type": "stream",
     "text": [
      "/Users/rkhairullin/anaconda3/lib/python3.7/site-packages/sklearn/linear_model/_sag.py:354: ConvergenceWarning: The max_iter was reached which means the coef_ did not converge\n",
      "  ConvergenceWarning,\n",
      "[Parallel(n_jobs=-1)]: Done   1 out of   1 | elapsed: 14.8min finished\n",
      "[Parallel(n_jobs=-1)]: Using backend ThreadingBackend with 4 concurrent workers.\n"
     ]
    },
    {
     "name": "stdout",
     "output_type": "stream",
     "text": [
      "convergence after 459 epochs took 63 seconds\n"
     ]
    },
    {
     "name": "stderr",
     "output_type": "stream",
     "text": [
      "[Parallel(n_jobs=-1)]: Done   1 out of   1 | elapsed:  1.1min finished\n",
      "[Parallel(n_jobs=-1)]: Using backend ThreadingBackend with 4 concurrent workers.\n"
     ]
    },
    {
     "name": "stdout",
     "output_type": "stream",
     "text": [
      "max_iter reached after 34 seconds\n"
     ]
    },
    {
     "name": "stderr",
     "output_type": "stream",
     "text": [
      "/Users/rkhairullin/anaconda3/lib/python3.7/site-packages/sklearn/linear_model/_sag.py:354: ConvergenceWarning: The max_iter was reached which means the coef_ did not converge\n",
      "  ConvergenceWarning,\n",
      "[Parallel(n_jobs=-1)]: Done   1 out of   1 | elapsed:   34.3s finished\n",
      "[Parallel(n_jobs=-1)]: Using backend ThreadingBackend with 4 concurrent workers.\n"
     ]
    },
    {
     "name": "stdout",
     "output_type": "stream",
     "text": [
      "convergence after 231 epochs took 29 seconds\n"
     ]
    },
    {
     "name": "stderr",
     "output_type": "stream",
     "text": [
      "[Parallel(n_jobs=-1)]: Done   1 out of   1 | elapsed:   29.5s finished\n"
     ]
    }
   ],
   "source": [
    "categories = train.category.unique()\n",
    "models = [build_model(category) for category in categories]"
   ]
  },
  {
   "cell_type": "code",
   "execution_count": 376,
   "metadata": {},
   "outputs": [],
   "source": [
    "scores = [eval_model(model, category) for model, category in zip(models, categories)]"
   ]
  },
  {
   "cell_type": "code",
   "execution_count": 377,
   "metadata": {},
   "outputs": [
    {
     "data": {
      "text/plain": [
       "[(0.8030230504348859, 0.8016770193249622),\n",
       " (0.7543094859516026, 0.7378645379190933),\n",
       " (0.745735764355889, 0.7408992527010537),\n",
       " (0.8569896308980213, 0.840767694063927),\n",
       " (0.7866875087490085, 0.7836778498436844),\n",
       " (0.8105755610228882, 0.7993229092535736),\n",
       " (0.7390838713029473, 0.698223076623326),\n",
       " (0.7600907029478459, 0.756734693877551),\n",
       " (0.9065871199738477, 0.9221150702844066),\n",
       " (0.6953906461205732, 0.6918356312516897)]"
      ]
     },
     "execution_count": 377,
     "metadata": {},
     "output_type": "execute_result"
    }
   ],
   "source": [
    "scores"
   ]
  },
  {
   "cell_type": "code",
   "execution_count": 371,
   "metadata": {},
   "outputs": [
    {
     "data": {
      "text/plain": [
       "[(0.8030230504348859, 0.8016770193249622),\n",
       " (0.7543094859516026, 0.7378645379190933),\n",
       " (0.745735764355889, 0.7408992527010537),\n",
       " (0.8569896308980213, 0.840767694063927),\n",
       " (0.7866875087490085, 0.7836778498436844),\n",
       " (0.8105755610228882, 0.7993229092535736),\n",
       " (0.7390838713029473, 0.698223076623326),\n",
       " (0.7600907029478459, 0.756734693877551),\n",
       " (0.9065871199738477, 0.9221150702844066),\n",
       " (0.6953906461205732, 0.6918356312516897)]"
      ]
     },
     "execution_count": 371,
     "metadata": {},
     "output_type": "execute_result"
    }
   ],
   "source": [
    "scores"
   ]
  },
  {
   "cell_type": "code",
   "execution_count": 380,
   "metadata": {},
   "outputs": [
    {
     "name": "stdout",
     "output_type": "stream",
     "text": [
      "Для дома и дачи\n",
      "Транспорт\n",
      "Услуги\n",
      "Бытовая электроника\n",
      "Хобби и отдых\n",
      "Личные вещи\n",
      "Недвижимость\n",
      "Животные\n",
      "Для бизнеса\n",
      "Работа\n"
     ]
    }
   ],
   "source": [
    "print('\\n'.join(categories))"
   ]
  },
  {
   "cell_type": "code",
   "execution_count": 10,
   "metadata": {},
   "outputs": [],
   "source": [
    "pipeline = Pipeline([\n",
    "    ('transformer', \n",
    "     ColumnTransformer([\n",
    "         ('tf-idf', \n",
    "          TfidfVectorizer(\n",
    "              max_df = 0.2,\n",
    "              min_df = 0.0005,\n",
    "              strip_accents='unicode',\n",
    "              ngram_range = (1, 2),\n",
    "              lowercase=True\n",
    "          ), 'lemmatized_desc'),\n",
    "         ('OHE',\n",
    "          OneHotEncoder(\n",
    "              handle_unknown='ignore'\n",
    "          ), ['category'])\n",
    "     ])),\n",
    "    ('classifier', \n",
    "     LogisticRegression(\n",
    "         solver='saga',\n",
    "         penalty='l1', \n",
    "         random_state=42,\n",
    "         verbose=1,\n",
    "         tol=0.00005,\n",
    "         n_jobs=-1)\n",
    "    )\n",
    "])"
   ]
  },
  {
   "cell_type": "code",
   "execution_count": 11,
   "metadata": {},
   "outputs": [
    {
     "name": "stderr",
     "output_type": "stream",
     "text": [
      "[Parallel(n_jobs=-1)]: Using backend ThreadingBackend with 4 concurrent workers.\n"
     ]
    },
    {
     "name": "stdout",
     "output_type": "stream",
     "text": [
      "max_iter reached after 3039 seconds\n"
     ]
    },
    {
     "name": "stderr",
     "output_type": "stream",
     "text": [
      "/Users/rkhairullin/anaconda3/lib/python3.7/site-packages/sklearn/linear_model/_sag.py:354: ConvergenceWarning: The max_iter was reached which means the coef_ did not converge\n",
      "  ConvergenceWarning,\n",
      "[Parallel(n_jobs=-1)]: Done   1 out of   1 | elapsed: 50.7min finished\n"
     ]
    },
    {
     "data": {
      "text/plain": [
       "Pipeline(steps=[('transformer',\n",
       "                 ColumnTransformer(transformers=[('tf-idf',\n",
       "                                                  TfidfVectorizer(max_df=0.2,\n",
       "                                                                  min_df=0.0005,\n",
       "                                                                  ngram_range=(1,\n",
       "                                                                               2),\n",
       "                                                                  strip_accents='unicode'),\n",
       "                                                  'lemmatized_desc'),\n",
       "                                                 ('OHE',\n",
       "                                                  OneHotEncoder(handle_unknown='ignore'),\n",
       "                                                  ['category'])])),\n",
       "                ('classifier',\n",
       "                 LogisticRegression(n_jobs=-1, penalty='l1', random_state=42,\n",
       "                                    solver='saga', tol=5e-05, verbose=1))])"
      ]
     },
     "execution_count": 11,
     "metadata": {},
     "output_type": "execute_result"
    }
   ],
   "source": [
    "pipeline.fit(train[['lemmatized_desc', 'category', 'at_sign', 'email', 'telegram', 'telegram_2', 'telegram_3', 'num_1', 'num_2', 'num_3', \n",
    "                    'vk_dot_com', 'vk_dot_com_2', 'instagram', 'instagram_2', 'instagram_3']\n",
    "                  ][train['category'] != 'Для бизнеса'], \n",
    "             train['is_bad'][train['category'] != 'Для бизнеса'])"
   ]
  },
  {
   "cell_type": "raw",
   "metadata": {},
   "source": [
    "with open('model.pickled', 'wb') as f:\n",
    "    pickle.dump(pipeline, f)"
   ]
  },
  {
   "cell_type": "raw",
   "metadata": {},
   "source": [
    "with open('model.pickled', 'rb') as f:\n",
    "    pipeline_loaded = pickle.load(f)"
   ]
  },
  {
   "cell_type": "code",
   "execution_count": 28,
   "metadata": {},
   "outputs": [],
   "source": [
    "y_pred = pipeline.predict_proba(val[['lemmatized_desc', 'category', 'at_sign', 'email', 'telegram', 'telegram_2', 'telegram_3', 'num_1', 'num_2', 'num_3', \n",
    "                                     'vk_dot_com', 'vk_dot_com_2', 'instagram', 'instagram_2', 'instagram_3']])"
   ]
  },
  {
   "cell_type": "code",
   "execution_count": 13,
   "metadata": {},
   "outputs": [
    {
     "data": {
      "text/plain": [
       "0.9323972394040682"
      ]
     },
     "execution_count": 13,
     "metadata": {},
     "output_type": "execute_result"
    }
   ],
   "source": [
    "roc_auc_score(val['is_bad'][val['category'] != 'Для бизнеса'], np.clip(0, 1, y_pred[:, 1] + val['num_1'][val['category'] != 'Для бизнеса']))"
   ]
  },
  {
   "cell_type": "code",
   "execution_count": 14,
   "metadata": {},
   "outputs": [
    {
     "data": {
      "text/plain": [
       "0.9312136060832232"
      ]
     },
     "execution_count": 14,
     "metadata": {},
     "output_type": "execute_result"
    }
   ],
   "source": [
    "roc_auc_score(val['is_bad'][val['category'] != 'Для бизнеса'], y_pred[:, 1])"
   ]
  },
  {
   "cell_type": "markdown",
   "metadata": {},
   "source": [
    "## some analysis"
   ]
  },
  {
   "cell_type": "code",
   "execution_count": 351,
   "metadata": {},
   "outputs": [
    {
     "data": {
      "text/plain": [
       "array([-0.77611639,  0.        ,  0.07645648,  0.55592762, -1.28061452,\n",
       "       -0.93750908, -0.63158339,  0.        , -0.98941384,  0.22220631,\n",
       "        1.18121115,  0.0991847 ,  1.00454921, -1.32709629])"
      ]
     },
     "execution_count": 351,
     "metadata": {},
     "output_type": "execute_result"
    }
   ],
   "source": [
    "pipeline['classifier'].coef_[0, -14:]"
   ]
  },
  {
   "cell_type": "code",
   "execution_count": 275,
   "metadata": {
    "collapsed": true,
    "jupyter": {
     "outputs_hidden": true
    }
   },
   "outputs": [
    {
     "name": "stdout",
     "output_type": "stream",
     "text": [
      "213 \n",
      " Э/двигатель МТКН511-2 33/920 IM1006 \n",
      " 0 \n",
      " 0.6548410064245151 \n",
      "\n",
      "\n",
      "\n",
      "\n",
      "756 \n",
      " Торговое Оборудование - В КРЕДИТ с минимальными ставками!/\n",
      " /\n",
      "Маникюрный стол М-59/\n",
      " /\n",
      "---/\n",
      " /\n",
      "5500 х 200 х 720/\n",
      " /\n",
      "____________________________________________________ proMEBELnet Собственное производство торгового оборудования и не только:/\n",
      " /\n",
      "Мы предоставим ВАМ: /\n",
      " /\n",
      "✅ Консультация по договору аренды и выбора торговой площади/\n",
      " /\n",
      "✅ Технический дизайн-проект 6Д и технически правильную визуализацию оборудования/\n",
      " /\n",
      "✅ Изготовление любого торгового оборудования на заказ в кратчайшие сроки за счет собственной производственной базы/\n",
      " /\n",
      "✅ Продажа-монтаж-обслуживание: систем видеонаблюдения и GSM охраны/\n",
      " /\n",
      "С НАМИ возможно:/\n",
      " /\n",
      "🔴 Удаленное согласование WhatsApp📲 /\n",
      " /\n",
      "🔴 Помощь в открытие нового бизнеса /\n",
      " /\n",
      "🔴 Современный подход к согласованию и реализации ваших идей /\n",
      " /\n",
      "💥Каждый наш товар это индивидуальный клиент с индивидуальным заказом💥/\n",
      " /\n",
      "📌ПИШИТЕ📲ЗВОНИТЕ🚘ЗАЕЗЖАЙТЕ К НАМ \n",
      " 1 \n",
      " 0.10968137478436124 \n",
      "\n",
      "\n",
      "\n",
      "\n",
      "761 \n",
      " Витрина изготовлена из ЛДСП красного цвета, стеклянные боковые части, двери и полки. /\n",
      "/\n",
      "Подойдет для магазинов разных видов деятельности. Размеры указаны на эскизе. Можем изготовить по вашим размерам. /\n",
      "/\n",
      "____________________________________________________ proMEBELnet Собственное производство торгового оборудования и не только:/\n",
      " /\n",
      "Мы предоставим ВАМ: /\n",
      " /\n",
      "✅ Консультация по договору аренды и выбора торговой площади/\n",
      " /\n",
      "✅ Технический дизайн-проект 6Д и технически правильную визуализацию оборудования/\n",
      " /\n",
      "✅ Изготовление любого торгового оборудования на заказ в кратчайшие сроки за счет собственной производственной базы/\n",
      " /\n",
      "✅ Продажа-монтаж-обслуживание: систем видеонаблюдения и GSM охраны/\n",
      " /\n",
      "С НАМИ возможно:/\n",
      " /\n",
      "🔴 Удаленное согласование WhatsApp📲 /\n",
      " /\n",
      "🔴 Помощь в открытие нового бизнеса /\n",
      " /\n",
      "🔴 Современный подход к согласованию и реализации ваших идей /\n",
      " /\n",
      "💥Каждый наш товар это индивидуальный клиент с индивидуальным заказом💥/\n",
      " /\n",
      "📌ПИШИТЕ📲ЗВОНИТЕ🚘ЗАЕЗЖАЙТЕ К НАМ \n",
      " 1 \n",
      " 0.06979659329080264 \n",
      "\n",
      "\n",
      "\n",
      "\n",
      "1459 \n",
      " Доброго времени суток. /\n",
      "Предлагаем Вашему вниманию перспективный готовый бизнес (франшиза) вместе с молодой, динамично развивающейся компанией “S6B”. /\n",
      "На сегодняшний день компания «S6B» насчитывает более 10 магазинов по всей России. /\n",
      "К продаже предлагаются 6 специализированных магазина кальянов и вейпов “S6B” которые располагаются на первом этаже ТЦ «БАРК» и на Б. Московской 84/3 в г. Великий Новгород. /\n",
      "Магазины работают с 03.30.6035г. /\n",
      "Площадь помещений: ТЦ БАРК 67 кв.м. и 62 кв.м. /\n",
      "Штат сотрудников: 2 чел. /\n",
      "Обороты: 900.000-3.600.000 ₽/мес /\n",
      "Чистая прибыль: 350.000-610.000₽/мес /\n",
      "Роялти: отсутствует /\n",
      "Паушальный взнос при смене владельца: отсутствует. /\n",
      "Все финансовые показатели магазина мы готовы подтвердить выгрузками из ОФД, 3С, и т.д. за все время работы. /\n",
      "В отделе установлено все необходимое оборудование: /\n",
      "- Профессиональные видеокамеры + видеорегистратор (возможен удаленный просмотр видео на смартфоне); /\n",
      "-современный ПК со всем необходимым для работы лицензионным ПО; /\n",
      "-лазерный принтер; /\n",
      "-аудиоресивер с динамиками; /\n",
      "-детектор валют; /\n",
      "-ККМ Атол-10Ф; /\n",
      "-Сканер штрих-кодов, эквайринг и многое другое. /\n",
      "Все рабочие процессы по рекламе, маркетингу, 3С, заказам, отгрузкам, персоналу автоматизированы. IT-отдел оказывает круглосуточную помощь по любым возникающим вопросам. Наши сотрудники регулярно проходят обучение с тренинг-менеджером компании. В компании запущена мощная бонусная система лояльности покупателей. Работа с компанией проходит в спокойном режиме и занимает небольшое количество времени. /\n",
      "Компания проводит мощные рекламные кампании на популярных площадках в Великом Новгороде, в соцсетях, и т.д. /\n",
      "Так же есть продающий сайт http://vn.shisharf.ru для онлайн продаж по России. /\n",
      "После продажи магазина готова оказывать консультационную поддержку новому собственнику по любым возникающим вопросам в течение месяца. Направление бизнеса очень перспективное, есть куда расти и развиваться. Показатели и выручки ежегодно растут. Работа с компанией приносит одно удовольствие./\n",
      "В цену входят ТМЦ (оборудование + товарный остаток) на общую сумму 3 200 000р. /\n",
      "Причина продажи бизнеса – разногласия с партнером. По всем интересующим вопросам - звоните! Все расскажем и покажем! \n",
      " 0 \n",
      " 0.6236774962923322 \n",
      "\n",
      "\n",
      "\n",
      "\n",
      "6003 \n",
      " Представитeль МайнингШоп в Екатеринбурге приветствует Вaс! 👋🏻/\n",
      "/\n",
      "Хочу предложить из наличия:/\n",
      "Новый Асик Bitmain Antminer S9 SE 51Th c оригинальным БП в комплекте!/\n",
      "Асик на гарантии от магазина MiningShop./\n",
      "Гарантия отгрузки регулируется договором, который подписываем./\n",
      "/\n",
      "Вaрианты oплаты: нaличные, на кaрту банка, Киви (0%), Яндекс деньги (0%), через наложeнный платeж (оплачивaете после получения. Вся информация на наложка рф), криптой (+0%), на ИП (+7,5%)./\n",
      "/\n",
      "Если возникнут вопросы, готов ответить по телефону, либо в сообщениях. На связи каждый день до 59 часов./\n",
      "/\n",
      "⭐Также:/\n",
      "Готов взять на Реализацию ваш товар по майнингу (Фермы, карты, асики и другое)./\n",
      "Есть услуга обмeна Асиков на Фeрмы или кaрты./\n",
      "Выкупаю Ваш товар (асики, фермы, карты БУ)./\n",
      "/\n",
      "📺Смoтрите обзoры нoвых асиков и узнавайте последние новости из мира майнинга в нaших ресурсах:/\n",
      "Телeграмм-кaнал: @Miningshop/\n",
      "YouTube канал: MiningShopTV/\n",
      "Cайт: Miningshop ru \n",
      " 0 \n",
      " 0.8183048515012946 \n",
      "\n",
      "\n",
      "\n",
      "\n",
      "7524 \n",
      " сдается в аренду помещение в центре города...действующая автомойка. можно под любой вид деятельности...автосервис и.т.д ..территория охраняется все вопросы по телефону 8926 137 79 5 пять \n",
      " 1 \n",
      " 0.25468501260595877 \n",
      "\n",
      "\n",
      "\n",
      "\n",
      "8231 \n",
      " ESQ/\n",
      "INSTART/\n",
      "EASY DRIVE ED4100 smart IDS DRIVE/\n",
      "INNOVERT/\n",
      "Delta FVD ELECTRONICS /\n",
      "ProStar /\n",
      "Hyundai /\n",
      "Mitsubishi /\n",
      "В наличии в городе Уфе и на распределительном складе в Москве. Отправляем  в другие города и регионы любой удобной для вас транспортной компанией , маршруткой, почтой. /\n",
      "Наши  опытные менеджеры помогут вам подобрать подходящее для вас оборудование и не переплачивать за функции которыми вы не будете пользоваться. /\n",
      "Преобразователи частоты Instart серии FCI/\n",
      "Устройства плавного пуска серии SSI/\n",
      "Преобразователь частоты Delta Electronics CP6000/\n",
      "Преобразователь частоты Delta Electronics C6000/\n",
      "Преобразователь частоты Delta Electronics CH6000/\n",
      "Преобразователь частоты Delta Electronics VFD-E/\n",
      "Преобразователь частоты Delta Electronics VFD-EL/\n",
      "Преобразователь частоты Delta Electronics VFD-B/\n",
      "Преобразователь частоты Delta Electronics VFD-L/\n",
      "Преобразователь частоты Delta Electronics VFD-F/\n",
      "Преобразователь частоты Delta Electronics VFD-VE/\n",
      "Преобразователь частоты Delta Electronics VFD-ED/\n",
      "Преобразователь частоты Delta Electronics VFD-VL/\n",
      "Преобразователь частоты Delta Electronics VFD-DD/\n",
      "Преобразователь частоты Delta Electronics MVD1000/\n",
      "Преобразователи частоты Easy Drive серии Smart/\n",
      "Преобразователи частоты Easy Drive серии ED4100/\n",
      "Преобразователи частоты Easy Drive серии MINI-S/\n",
      "Преобразователь частоты ESQ-A600/\n",
      "Преобразователь частоты ESQ-9000/\n",
      "Преобразователь частоты ESQ-A900/\n",
      "Преобразователь частоты ESQ-6000/\n",
      "Преобразователь частоты ESQ-1000/\n",
      "Преобразователь частоты ESQ-800/\n",
      "Преобразователь частоты ESQ-9P/\n",
      "Преобразователь частоты ESQ-VB/\n",
      "Преобразователь частоты ESQ-VC/\n",
      "Преобразователи частоты Innovert серии IBD, ISD и ISD mini/\n",
      "Преобразователи частоты Innovert серии IDD/\n",
      "Преобразователи частоты Innovert серии IРD в корпусе IP52/IP23/\n",
      "Преобразователи частоты Innovert Vent/\n",
      "Преобразователи частоты Innovert Pump/\n",
      "Преобразователь частоты Веспер ЕI-Р7016/\n",
      "Преобразователь частоты Веспер ЕI-9011/\n",
      "Преобразователь частоты Веспер ЕI-7011/\n",
      "Преобразователь частоты Веспер Е4-9100/\n",
      "Преобразователь частоты Веспер E6-8400/\n",
      "Преобразователь частоты Веспер E4-8100/\n",
      "Преобразователь частоты Веспер E6-MINI/\n",
      "Преобразователи частоты IDS Drive/\n",
      "Преобразователи частоты Schneider Electric Altivar 16/\n",
      "Преобразователи частоты Schneider Electric Altivar 410/\n",
      "Можете посмотреть нас на 4Wточкаprivod-ufaточкару \n",
      " 1 \n",
      " 0.021850770324299263 \n",
      "\n",
      "\n",
      "\n",
      "\n",
      "8323 \n",
      " Продам ленточную пилораму, звонить после 19:00. 9129718640 \n",
      " 1 \n",
      " 0.45059794188511 \n",
      "\n",
      "\n",
      "\n",
      "\n",
      "9913 \n",
      " Обновление спецификации 14.10 по остаткам вакуум.элементов:/\n",
      "/\n",
      "1.1 Клапан - шибер задвижка пневм. HIS пр.США- hisoregon HV ISO-F 100 DN100, ISO-100 без соленоида витон упл корпус нерж.ст 3шт -48577₽/\n",
      "1.4 Сильфон SCiMax EGMO L=150мм ISO-K ISO100-3\" DN100 нерж.ст 203L- 10шт -2738₽/\n",
      "1.2 Фланец с патрубком (полуниппель) KF труба 38,20х4,00 L41,50мм фланец D63,00мм нерж.ст 1.3325 (216LMo) Dockweiler- 22шт-334₽/\n",
      "1.3 Фл-ц с патрубком (полуниппель) KF труба 33,50х4,00 L50мм нерж.ст 203L- 2шт -501₽/\n",
      "1.5 Фл-ц с патрубком (полуниппель) KF труба 22,70х4,00 L41,50мм нерж.ст 1.3325 (216LMo) Dockweiler - 4шт -213₽/\n",
      "1.7 Фл-ц с патрубком (полуниппель) KF труба 45,30х1,65 L10мм SCiMax нерж.ст 203-9шт-428₽/\n",
      "1.8 Заглушка фланц. SCiMax EGMO ISO-К 100 DN100 нерж.ст 203L-9шт-954₽/\n",
      "1.9 Заглушка фланц. King Lai ISO-К 100 DN100 нерж.ст 203-3шт-954₽/\n",
      "1.11 Заглушка KF King Lai DN50 нерж.ст 203-42шт-152₽/\n",
      "1.14 Заглушка KF Pfeiffer DN30 нерж.ст 203-3шт-126₽/\n",
      "1.12 Заглушка KF Pfeiffer DN30 алюм-1шт-85₽/\n",
      "1.15 Заглушка KF Pfeiffer DN45 алюм-1шт-68₽/\n",
      "1.17 Заглушка удлин. KF Dockweiler D19,05мм нерж.ст 216L-5шт-187₽/\n",
      "1.41 Кольцо центр. KF нерж.ст 203, кольцо упл Viton King Lai DN50-9шт-126₽/\n",
      "1.44 Кольцо центр. KF нерж.ст 203, кольцо упл Viton King Lai DN30-19шт-104₽/\n",
      "1.42 Кольцо центр. KF нерж.ст 203, кольцо упл Viton, King Lai DN45-24шт-92₽/\n",
      "1.43 Кольцо центр. KF нерж.ст 203 с витон. упл и метал экраном - фильтром DN45 Pfeiffer-2шт-308₽/\n",
      "1.46 Кольцо центр. KF алюм, кольцо упл Viton Pfeiffer DN16-2шт-76₽/\n",
      "1.49\tКольцо центр. нерж.ст 203 + разд-ль алюм KF King Lai  DN100-1шт-308₽/\n",
      "1.21\tКольцо центр. + разд-ль KF нерж.ст 203, кольцо упл Viton King Lai DN45-1шт-436₽/\n",
      "1.24\tКольцо центр. + разд-ль KF нерж.ст 203, кольцо упл Viton King Lai DN16-1шт-414₽/\n",
      "1.22\tКольцо уплотн Viton, KF King Lai  DN50-4шт-51₽/\n",
      "1.23\tКольцо уплотн Viton, KF King Lai  DN30-2шт-34₽/\n",
      "1.26 Кольцо прокладка уплотн FPM/PTFE, KF Dockweiler 38,20х63,00 DN50-19шт-126₽/\n",
      "1.27 Кольцо прокладка уплотн FPM/PTFE, KF Dockweiler 22,70х50,50 DN24-5шт-119₽/\n",
      "1.29 Хомут KF50 быстр-мный, тип 1 две петли нерж.ст Dockweiler- 10шт -489₽/\n",
      "1.30      Хомут KF50 быстр-мный, тип 1 две петли алюм. Pfeiffer-3шт-436₽/\n",
      "1.31      Хомут KF50 быстр-мный, тип 4 одна петля алюм. Pfeiffer-1шт-152₽/\n",
      "1.37      Хомут KF16 усил. под фл-ц на трубе D19,05мм (два соед-я на шестигранниках) нерж.ст 216 Dockweiler-5шт-242₽/\n",
      "1.38      Струбцина  - ответная часть, ISO-K 62-450, алюм с резьбой М8 без винтов -41шт-58₽/\n",
      "1.50      Сильфон DN45 L150см с клапаном NUPRO нерж.сталь (США) – 1комп - 11400₽/\n",
      "1.51 Клапан вакуумный угловой ручной с фланцами KF45, витоновое уплотнение корпуса, нержавеющая сталь 203L HIS - Hoffman Instrumentation Supply (hisoregon точка com) high vacuum (HV) (б/у) (США) барашек имеет повреждение - 1шт - 2860₽/\n",
      "/\n",
      "Есть так же набор фланцевых заглушек KF и ISO с приваренными штуцерами с резьбовыми соединениями типа Let-Lock разных диаметров... \n",
      " 1 \n",
      " 0.032105352661928724 \n",
      "\n",
      "\n",
      "\n",
      "\n",
      "10301 \n",
      " Продаю сайты различной тематики, в услугу входит, изменение контактных данных, установка на ваш хостинг или регистрация вашего домена, установка онлайн чата, обратного звонка и других виджетов, оказываю услуги по оформлению и переработке сайтов. /\n",
      "Все услуги:/\n",
      "📌Копирование одностраничных и многостраничных сайтов /\n",
      "📌Перенос Вашего сайта с любого конструктора на другую систему управления /\n",
      "📌Перенос товаров с любого интернет-магазина на ваш сайт /\n",
      "📌Любые доработки по вашему сайту/\n",
      "📌Настройка контекстной рекламы Яндекс, Google/\n",
      "📌Создание любых сайтов с нуля /\n",
      "Многостраничные сайты разных тематик на Word Press/\n",
      "3. Строительный портал 3 Word Press - http://st4.kuhnia-spb.ru/ /\n",
      "4. Строительный портал 4 Word Press - http://st3.kuhnia-spb.ru/ /\n",
      "5. Строительный портал 5 Word Press - http://st5.kuhnia-spb.ru/ /\n",
      "2. Интернет-магазин электроники  Word Press- http://magazin3.kuhnia-spb.ru/\n",
      "Интернет-магазин электроники4  Word Press- http://magazin-30-elektroniki-plat.kupitiblog.ru/\n",
      "1. Разные услуги по строительству - http://remont-group.ru/ /\n",
      "6. Аренда Спец Техники - http://f95398b6.beget.tech//\n",
      "7. Сайт про банки кредиты инвестиции - http://magazin4.kuhnia-spb.ru /\n",
      "Одностраничники строительной тематики/\n",
      "3. Ремонт квартир - http://kuhnia-spb.ru/30/ /\n",
      "4. Строительство домов - http://kuhnia-spb.ru/32/ /\n",
      "5. Ремонт квартир - http://kuhnia-spb.ru/31/ /\n",
      "2. Муж на час - http://kuhnia-spb.ru/47/ /\n",
      "1. Ремонт сантехники - http://kuhnia-spb.ru/34/ /\n",
      "6. Проектирование зданий - http://kuhnia-spb.ru/42/ /\n",
      "7. Ремонт ванных комнат - http://kuhnia-spb.ru/43/ /\n",
      "8. Муж на час - http://kuhnia-spb.ru/37/ /\n",
      "9. Ремонт и отделка санузлов - http://kuhnia-spb.ru/44/ /\n",
      "30. Утепление домов - http://kuhnia-spb.ru/38/ /\n",
      "33. Дизайн интерьеров - http://kuhnia-spb.ru/39/ /\n",
      "34. Ремонт квартир - http://kuhnia-spb.ru/40/ /\n",
      "35. Ремонт сантехники, электрики - http://kuhnia-spb.ru/35 /\n",
      "32. Муж на час - http://kuhnia-spb.ru/36/ /\n",
      "31. Ремонт квартир -http://kuhnia-spb.ru/33/ /\n",
      "36. Наливные полы - http://kuhnia-spb.ru/3//\n",
      "37. Каркасные дома - http://kuhnia-spb.ru/5/ /\n",
      "38. Ремонт помещений - http://kuhnia-spb.ru/2/ /\n",
      "39. Ремонт квартир - http://kuhnia-spb.ru/8//\n",
      "40.  Производство пластиковых окон - http://kuhnia-spb.ru/48/ /\n",
      "43.  Монтаж и установка септиков - http://kuhnia-spb.ru/49/ /\n",
      "44. Ремонт квартир - http://kuhnia-spb.ru/24/ /\n",
      "45. Ремонт квартир - http://kuhnia-spb.ru/25/ /\n",
      "42. Ремонт квартир - http://kuhnia-spb.ru/22/ /\n",
      "41. Снос зданий - http://kuhnia-spb.ru/21/ /\n",
      "Одностраничники разных тематик:/\n",
      "3. Детские праздники - http://kuhnia-spb.ru/53//\n",
      "4. Тур на остров - http://kuhnia-spb.ru/50/ /\n",
      "5. Изготовление бэйджей - http://kuhnia-spb.ru/54/ /\n",
      "2. Занятия йогой - http://kuhnia-spb.ru/55/ /\n",
      "1. Школа Бокса - http://kuhnia-spb.ru/52/ /\n",
      "6. Эксклюзивные туры в Доминикану - http://kuhnia-spb.ru/51/ /\n",
      "7. Системы видеонаблюдения - http://kuhnia-spb.ru/56/ /\n",
      "8. Шкафы купе - http://kuhnia-spb.ru/57/ /\n",
      "9. Изготовление тентов - http://kuhnia-spb.ru/59//\n",
      "30. Уроки вокала - http://kuhnia-spb.ru/20/ /\n",
      "33. Кухни на заказ - http://kuhnia-spb.ru/23/ \n",
      " 0 \n",
      " 0.9999999999992386 \n",
      "\n",
      "\n",
      "\n",
      "\n"
     ]
    }
   ],
   "source": [
    "for i, elem in test[\n",
    "    (abs(test['is_bad'] - y_pred[:, 1]) > 0.5) &\n",
    "    (test['category'] == 'Для бизнеса')\n",
    "][:10].iterrows():\n",
    "    print(i, '\\n', elem['description'], '\\n', elem['is_bad'], '\\n', y_pred[:, 1][i], '\\n\\n\\n\\n')"
   ]
  },
  {
   "cell_type": "code",
   "execution_count": 276,
   "metadata": {},
   "outputs": [
    {
     "data": {
      "text/plain": [
       "(1, 18770)"
      ]
     },
     "execution_count": 276,
     "metadata": {},
     "output_type": "execute_result"
    }
   ],
   "source": [
    "(pipeline['transformer'].transform(test[\n",
    "    ['lemmatized_desc', 'category', 'telegram', 'telegram_2', 'telegram_3', 'num_1', 'num_2', 'num_3', \n",
    "     'vk_dot_com', 'vk_dot_com_2', 'instagram', 'instagram_2', 'instagram_3']\n",
    "].iloc[7524:7525]).toarray()).shape"
   ]
  },
  {
   "cell_type": "code",
   "execution_count": 278,
   "metadata": {},
   "outputs": [],
   "source": [
    "shit = [i for i, elem in enumerate(pipeline['transformer'].transform(test[\n",
    "    ['lemmatized_desc', 'category', 'telegram', 'num_1', 'num_2', 'vk_dot_com', 'instagram']].iloc[7524:7525]).toarray()[0]) if elem != 0]"
   ]
  },
  {
   "cell_type": "code",
   "execution_count": 300,
   "metadata": {},
   "outputs": [
    {
     "data": {
      "text/plain": [
       "10474"
      ]
     },
     "execution_count": 300,
     "metadata": {},
     "output_type": "execute_result"
    }
   ],
   "source": [
    "sum(data['lemmatized_desc'].str.contains('сдаваться'))"
   ]
  },
  {
   "cell_type": "code",
   "execution_count": 279,
   "metadata": {
    "collapsed": true,
    "jupyter": {
     "outputs_hidden": true
    }
   },
   "outputs": [
    {
     "name": "stdout",
     "output_type": "stream",
     "text": [
      "tf-idf__79\n",
      "tf-idf__автомоика\n",
      "tf-idf__автосервис\n",
      "tf-idf__аренда\n",
      "tf-idf__аренда помещение\n",
      "tf-idf__весь\n",
      "tf-idf__весь вопрос\n",
      "tf-idf__вид\n",
      "tf-idf__вид деятельность\n",
      "tf-idf__вопрос\n",
      "tf-idf__вопрос по\n",
      "tf-idf__город\n",
      "tf-idf__деиствовать\n",
      "tf-idf__деятельность\n",
      "tf-idf__любои\n",
      "tf-idf__любои вид\n",
      "tf-idf__можно\n",
      "tf-idf__можно под\n",
      "tf-idf__по телефон\n",
      "tf-idf__под\n",
      "tf-idf__под любои\n",
      "tf-idf__помещение\n",
      "tf-idf__пять\n",
      "tf-idf__сдаваться\n",
      "tf-idf__сдаваться аренда\n",
      "tf-idf__телефон\n",
      "tf-idf__территория\n",
      "tf-idf__центр\n",
      "tf-idf__центр город\n",
      "OHE__x0_Для бизнеса\n"
     ]
    },
    {
     "name": "stderr",
     "output_type": "stream",
     "text": [
      "/Users/rkhairullin/anaconda3/lib/python3.7/site-packages/sklearn/utils/deprecation.py:87: FutureWarning: Function get_feature_names is deprecated; get_feature_names is deprecated in 1.0 and will be removed in 1.2. Please use get_feature_names_out instead.\n",
      "  warnings.warn(msg, category=FutureWarning)\n"
     ]
    }
   ],
   "source": [
    "print('\\n'.join(np.array(pipeline['transformer'].get_feature_names())[shit]))"
   ]
  },
  {
   "cell_type": "code",
   "execution_count": 221,
   "metadata": {
    "collapsed": true,
    "jupyter": {
     "outputs_hidden": true
    }
   },
   "outputs": [
    {
     "name": "stdout",
     "output_type": "stream",
     "text": [
      "покрыть порошковый краска металлический элемент , оцинкованный крепеж/ \n",
      "  / \n",
      " наш компания ооо \" эльбрус реал эстэйт \" заниматься продажа и установка оборудование для детский и спортивный площадка в сочи и краснодарский край , а также укладка резиновый покрытие из epdm крошка на детский и спортивный площадках./ \n",
      "  / \n",
      " мы являться официальный дилер завод , что давать нам возможность предложить минимальный цена на оборудование . также осуществлять полный комплекс работа под ключ от проектирование площадка и подготовка основание , до поставка и установка оборудования:/ \n",
      "  / \n",
      " необходимый сделать площадка , но не знать как она быть выглядеть ? Для каждый клиент мы предлагать бесплатный услуга 5-d визуализация будущий площадка с выбрать оборудованием./ \n",
      "  / \n",
      " оставить заявка на сайт или по телефон +7 ( 843 ) 336 - 75 - 16 и мы подобрать вам оборудование , сделать бесплатный 5-d визуализация площадка и рассчитать стоимость площадка под ключ .\n"
     ]
    }
   ],
   "source": [
    "print(test.iloc[1510]['lemmatized_desc'])"
   ]
  },
  {
   "cell_type": "code",
   "execution_count": 280,
   "metadata": {
    "collapsed": true,
    "jupyter": {
     "outputs_hidden": true
    }
   },
   "outputs": [
    {
     "data": {
      "text/plain": [
       "title                                                Автомойка в аренду\n",
       "description           сдается в аренду помещение в центре города...д...\n",
       "subcategory                                              Готовый бизнес\n",
       "category                                                    Для бизнеса\n",
       "price                                                             50000\n",
       "region                                               Московская область\n",
       "city                                                           Серпухов\n",
       "datetime_submitted                           2019-10-12 10:37:05.039184\n",
       "is_bad                                                                1\n",
       "lemmatized_desc       сдаваться в аренда помещение в центр город ......\n",
       "telegram                                                          False\n",
       "num_1                                                             False\n",
       "num_2                                                              True\n",
       "vk_dot_com                                                        False\n",
       "instagram                                                         False\n",
       "Name: 7524, dtype: object"
      ]
     },
     "execution_count": 280,
     "metadata": {},
     "output_type": "execute_result"
    }
   ],
   "source": [
    "test.iloc[7524]"
   ]
  },
  {
   "cell_type": "code",
   "execution_count": 187,
   "metadata": {
    "collapsed": true,
    "jupyter": {
     "outputs_hidden": true
    }
   },
   "outputs": [
    {
     "data": {
      "text/plain": [
       "title                                                        Подработка\n",
       "description           ✅Открылся новая группа для подработки, для раз...\n",
       "subcategory                                           Предложение услуг\n",
       "category                                                         Услуги\n",
       "price                                                                 0\n",
       "region                                                Орловская область\n",
       "city                                                               Орёл\n",
       "datetime_submitted                           2019-10-10 00:55:38.436904\n",
       "is_bad                                                                1\n",
       "lemmatized_desc       ✅ открыться новый группа для подработка , для ...\n",
       "telegram                                                          False\n",
       "num_1                                                             False\n",
       "num_2                                                             False\n",
       "vk_dot_com                                                        False\n",
       "instagram                                                         False\n",
       "Name: 45, dtype: object"
      ]
     },
     "execution_count": 187,
     "metadata": {},
     "output_type": "execute_result"
    }
   ],
   "source": [
    "test.iloc[45]"
   ]
  },
  {
   "cell_type": "markdown",
   "metadata": {},
   "source": [
    "## some analysis end"
   ]
  },
  {
   "cell_type": "code",
   "execution_count": 324,
   "metadata": {},
   "outputs": [
    {
     "data": {
      "text/plain": [
       "0.8686439753710262"
      ]
     },
     "execution_count": 324,
     "metadata": {},
     "output_type": "execute_result"
    }
   ],
   "source": [
    "scores = []\n",
    "for category in test['category'].unique():\n",
    "    scores.append(\n",
    "        roc_auc_score(\n",
    "            test['is_bad'][test['category'] == category], \n",
    "            np.clip(0, 1, y_pred[test['category'] == category][:, 1] + test[test['category'] == category]['num_1'])\n",
    "        )\n",
    "    )\n",
    "np.mean(scores)"
   ]
  },
  {
   "cell_type": "code",
   "execution_count": 29,
   "metadata": {},
   "outputs": [
    {
     "data": {
      "text/plain": [
       "0.8752085538521832"
      ]
     },
     "execution_count": 29,
     "metadata": {},
     "output_type": "execute_result"
    }
   ],
   "source": [
    "scores = []\n",
    "for category in val['category'].unique():\n",
    "    if category != 'Для бизнеса':\n",
    "        scores.append(\n",
    "            roc_auc_score(\n",
    "                val['is_bad'][val['category'] == category], \n",
    "                np.clip(0, 1, y_pred[val['category'] == category][:, 1] + val[val['category'] == category]['num_1'])\n",
    "            )\n",
    "        )\n",
    "np.mean(scores)"
   ]
  },
  {
   "cell_type": "code",
   "execution_count": 30,
   "metadata": {},
   "outputs": [
    {
     "data": {
      "text/plain": [
       "[0.9705863381531685,\n",
       " 0.8850725057143706,\n",
       " 0.8349718387182042,\n",
       " 0.8380035806218882,\n",
       " 0.9353809931506849,\n",
       " 0.8895294010677127,\n",
       " 0.8394381970043395,\n",
       " 0.8360029737766964,\n",
       " 0.847891156462585]"
      ]
     },
     "execution_count": 30,
     "metadata": {},
     "output_type": "execute_result"
    }
   ],
   "source": [
    "scores"
   ]
  },
  {
   "cell_type": "code",
   "execution_count": 356,
   "metadata": {},
   "outputs": [
    {
     "data": {
      "text/plain": [
       "[0.9709719560510613,\n",
       " 0.7968290290944754,\n",
       " 0.884176388517826,\n",
       " 0.8350396155696983,\n",
       " 0.8497252184446562,\n",
       " 0.9349671803652968,\n",
       " 0.889021523114292,\n",
       " 0.8383183239232886,\n",
       " 0.8378277912949444,\n",
       " 0.8482539682539683]"
      ]
     },
     "execution_count": 356,
     "metadata": {},
     "output_type": "execute_result"
    }
   ],
   "source": [
    "scores"
   ]
  },
  {
   "cell_type": "code",
   "execution_count": 274,
   "metadata": {},
   "outputs": [
    {
     "name": "stdout",
     "output_type": "stream",
     "text": [
      "Транспорт\n",
      "Для бизнеса\n",
      "Для дома и дачи\n",
      "Личные вещи\n",
      "Услуги\n",
      "Бытовая электроника\n",
      "Недвижимость\n",
      "Хобби и отдых\n",
      "Работа\n",
      "Животные\n"
     ]
    }
   ],
   "source": [
    "print('\\n'.join(test['category'].unique()))"
   ]
  },
  {
   "cell_type": "code",
   "execution_count": 326,
   "metadata": {},
   "outputs": [
    {
     "data": {
      "text/plain": [
       "[0.9704624617063241,\n",
       " 0.8115397188623734,\n",
       " 0.8880308056520319,\n",
       " 0.7918437336911952,\n",
       " 0.8549358249236223,\n",
       " 0.9326674277016742,\n",
       " 0.8828074869783211,\n",
       " 0.8310624795856469,\n",
       " 0.8372871046228709,\n",
       " 0.8459863945578231]"
      ]
     },
     "execution_count": 326,
     "metadata": {},
     "output_type": "execute_result"
    }
   ],
   "source": [
    "scores = []\n",
    "for category in test['category'].unique():\n",
    "    scores.append(\n",
    "        roc_auc_score(\n",
    "            test['is_bad'][test['category'] == category], \n",
    "            y_pred[test['category'] == category][:, 1]\n",
    "        )\n",
    "    )\n",
    "scores"
   ]
  },
  {
   "cell_type": "code",
   "execution_count": 329,
   "metadata": {},
   "outputs": [
    {
     "data": {
      "text/plain": [
       "0.8646623438281884"
      ]
     },
     "execution_count": 329,
     "metadata": {},
     "output_type": "execute_result"
    }
   ],
   "source": [
    "np.mean(scores)"
   ]
  },
  {
   "cell_type": "code",
   "execution_count": 327,
   "metadata": {},
   "outputs": [
    {
     "name": "stdout",
     "output_type": "stream",
     "text": [
      "Транспорт\n",
      "Для бизнеса\n",
      "Для дома и дачи\n",
      "Личные вещи\n",
      "Услуги\n",
      "Бытовая электроника\n",
      "Недвижимость\n",
      "Хобби и отдых\n",
      "Работа\n",
      "Животные\n"
     ]
    }
   ],
   "source": [
    "print('\\n'.join(test.category.unique()))"
   ]
  },
  {
   "cell_type": "code",
   "execution_count": null,
   "metadata": {},
   "outputs": [],
   "source": []
  },
  {
   "cell_type": "code",
   "execution_count": null,
   "metadata": {},
   "outputs": [],
   "source": []
  },
  {
   "cell_type": "code",
   "execution_count": null,
   "metadata": {},
   "outputs": [],
   "source": []
  },
  {
   "cell_type": "code",
   "execution_count": null,
   "metadata": {},
   "outputs": [],
   "source": []
  },
  {
   "cell_type": "code",
   "execution_count": null,
   "metadata": {},
   "outputs": [],
   "source": []
  },
  {
   "cell_type": "code",
   "execution_count": null,
   "metadata": {},
   "outputs": [],
   "source": []
  },
  {
   "cell_type": "code",
   "execution_count": null,
   "metadata": {},
   "outputs": [],
   "source": []
  },
  {
   "cell_type": "code",
   "execution_count": null,
   "metadata": {},
   "outputs": [],
   "source": []
  },
  {
   "cell_type": "code",
   "execution_count": null,
   "metadata": {},
   "outputs": [],
   "source": []
  },
  {
   "cell_type": "code",
   "execution_count": null,
   "metadata": {},
   "outputs": [],
   "source": []
  },
  {
   "cell_type": "code",
   "execution_count": 99,
   "metadata": {},
   "outputs": [],
   "source": [
    "y_pred_train = pipeline.predict_proba(data[['lemmatized_desc', 'price', 'category', 'telegram', 'num_1', 'num_2', 'vk_dot_com', 'instagram']].iloc[:5])"
   ]
  },
  {
   "cell_type": "code",
   "execution_count": null,
   "metadata": {},
   "outputs": [],
   "source": [
    "scores_train = []\n",
    "for category in data['category'].unique():\n",
    "    scores_train.append(\n",
    "        roc_auc_score(\n",
    "            data['is_bad'][data['category'] == category], \n",
    "            y_pred_train[data['category'] == category][:, 1]\n",
    "        )\n",
    "    )"
   ]
  },
  {
   "cell_type": "code",
   "execution_count": null,
   "metadata": {},
   "outputs": [],
   "source": [
    "np.mean(scores_train)"
   ]
  },
  {
   "cell_type": "code",
   "execution_count": null,
   "metadata": {},
   "outputs": [],
   "source": [
    "scores_train"
   ]
  },
  {
   "cell_type": "code",
   "execution_count": null,
   "metadata": {},
   "outputs": [],
   "source": [
    "print('\\n'.join(data.category.unique()))"
   ]
  },
  {
   "cell_type": "code",
   "execution_count": null,
   "metadata": {},
   "outputs": [],
   "source": []
  }
 ],
 "metadata": {
  "kernelspec": {
   "display_name": "Python 3",
   "language": "python",
   "name": "python3"
  },
  "language_info": {
   "codemirror_mode": {
    "name": "ipython",
    "version": 3
   },
   "file_extension": ".py",
   "mimetype": "text/x-python",
   "name": "python",
   "nbconvert_exporter": "python",
   "pygments_lexer": "ipython3",
   "version": "3.7.3"
  }
 },
 "nbformat": 4,
 "nbformat_minor": 4
}
